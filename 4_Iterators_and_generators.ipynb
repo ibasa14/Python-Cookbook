{
 "cells": [
  {
   "cell_type": "markdown",
   "metadata": {},
   "source": [
    "## Iterators and Generators"
   ]
  },
  {
   "cell_type": "code",
   "execution_count": 1,
   "metadata": {},
   "outputs": [
    {
     "name": "stdout",
     "output_type": "stream",
     "text": [
      "first line\n",
      "second line\n",
      "third line\n",
      "fourth line\n",
      "fifth line\n",
      "python is in line #6\n",
      "other line\n",
      "Se termino el fichero\n"
     ]
    }
   ],
   "source": [
    "# Consume an iterator with out a for loop: use next() and\n",
    "# a catch for the StopIteration exception\n",
    "\n",
    "with open('assets/search_text.txt', 'r') as file:\n",
    "    try:\n",
    "        while True:\n",
    "            line = next(file)\n",
    "            print(line, end = '')\n",
    "    except StopIteration:\n",
    "        print('Se termino el fichero')    \n"
   ]
  },
  {
   "cell_type": "code",
   "execution_count": 4,
   "metadata": {},
   "outputs": [
    {
     "name": "stdout",
     "output_type": "stream",
     "text": [
      "1\n",
      "2\n",
      "3\n",
      "4\n"
     ]
    }
   ],
   "source": [
    "# Iterate through a list: iter(list)\n",
    "items =  [1,2,3,4]\n",
    "iterator = iter(items)\n",
    "try:\n",
    "    while True:\n",
    "        print(next(iterator))\n",
    "except:\n",
    "    pass"
   ]
  },
  {
   "cell_type": "code",
   "execution_count": 18,
   "metadata": {},
   "outputs": [],
   "source": [
    "# Create your own iterator object: must implement __iter__ method:\n",
    "from dataclasses import dataclass\n",
    "from typing import List\n",
    "@dataclass\n",
    "class Node:\n",
    "    value: str\n",
    "    children: List[str]\n",
    "\n",
    "    def __iter__(self):\n",
    "        return iter(self.children)\n",
    "\n",
    "    def add_children(self, child: str) -> None:\n",
    "        self.children.append(child) "
   ]
  },
  {
   "cell_type": "code",
   "execution_count": 19,
   "metadata": {},
   "outputs": [],
   "source": [
    "node_1 = Node('cadena_1', ['hijo_1_a', 'hijo_2_a', 'hijo_3_a'])"
   ]
  },
  {
   "cell_type": "code",
   "execution_count": 23,
   "metadata": {},
   "outputs": [
    {
     "name": "stdout",
     "output_type": "stream",
     "text": [
      "hijo_1_a\n",
      "hijo_2_a\n",
      "hijo_3_a\n",
      "hijo_4\n"
     ]
    }
   ],
   "source": [
    "for child in node_1:\n",
    "    print(child)"
   ]
  },
  {
   "cell_type": "code",
   "execution_count": 35,
   "metadata": {},
   "outputs": [],
   "source": [
    "# Iterate in a reverse way: create a reversed_function. The alternative is\n",
    "# creating a list from the object and then using the reverse function. This could be\n",
    "# computationally expensive\n",
    "\n",
    "@dataclass\n",
    "class Countdown:\n",
    "    _value: int\n",
    "\n",
    "    def __iter__(self):\n",
    "        start = self._value\n",
    "        while start >= 0:\n",
    "            yield start\n",
    "            start -= 1\n",
    "\n",
    "    def __reversed__(self):\n",
    "        start = 0\n",
    "        while start <= self._value:\n",
    "            yield start\n",
    "            start += 1\n",
    "    "
   ]
  },
  {
   "cell_type": "code",
   "execution_count": 36,
   "metadata": {},
   "outputs": [],
   "source": [
    "my_countdown = Countdown(5)"
   ]
  },
  {
   "cell_type": "code",
   "execution_count": 37,
   "metadata": {},
   "outputs": [
    {
     "name": "stdout",
     "output_type": "stream",
     "text": [
      "5\n",
      "4\n",
      "3\n",
      "2\n",
      "1\n",
      "0\n"
     ]
    }
   ],
   "source": [
    "for n in my_countdown:\n",
    "    print(n)"
   ]
  },
  {
   "cell_type": "code",
   "execution_count": 38,
   "metadata": {},
   "outputs": [
    {
     "name": "stdout",
     "output_type": "stream",
     "text": [
      "0\n",
      "1\n",
      "2\n",
      "3\n",
      "4\n",
      "5\n"
     ]
    }
   ],
   "source": [
    "for n in reversed(my_countdown):\n",
    "    print(n)"
   ]
  },
  {
   "cell_type": "code",
   "execution_count": 49,
   "metadata": {},
   "outputs": [],
   "source": [
    "# Slicing an iterator: use the itertools.islice method (which internally calls next function)\n",
    "# is important to take this into account, as you maybe would need to go back in the iterator, in that case\n",
    "# you should consider save the generator in a list first\n",
    "\n",
    "from itertools import islice\n",
    "\n",
    "def count(number):\n",
    "    while True:\n",
    "        yield number\n",
    "        number += 1\n",
    "\n",
    "my_counter = count(0)"
   ]
  },
  {
   "cell_type": "code",
   "execution_count": 51,
   "metadata": {},
   "outputs": [
    {
     "name": "stdout",
     "output_type": "stream",
     "text": [
      "20\n",
      "21\n",
      "22\n",
      "23\n",
      "24\n"
     ]
    }
   ],
   "source": [
    "for x in islice(my_counter, 20, 25):\n",
    "    print (x)"
   ]
  },
  {
   "cell_type": "code",
   "execution_count": 2,
   "metadata": {},
   "outputs": [
    {
     "name": "stdout",
     "output_type": "stream",
     "text": [
      "python is in line #6\n",
      "other line\n"
     ]
    }
   ],
   "source": [
    "# Skip first lines of an iterator: use the itertools.dropwhile function:\n",
    "from itertools import dropwhile\n",
    "with open('assets/search_text.txt', 'r') as file:\n",
    "    for l in dropwhile(lambda a: not a.startswith('python'), file):\n",
    "        print (l, end = '')"
   ]
  },
  {
   "cell_type": "code",
   "execution_count": 3,
   "metadata": {},
   "outputs": [
    {
     "name": "stdout",
     "output_type": "stream",
     "text": [
      "1 ('a', 'b', 'c')\n",
      "2 ('a', 'c', 'b')\n",
      "3 ('b', 'a', 'c')\n",
      "4 ('b', 'c', 'a')\n",
      "5 ('c', 'a', 'b')\n",
      "6 ('c', 'b', 'a')\n"
     ]
    }
   ],
   "source": [
    "# Permutations and combinatios in python are implemented in the itertools module:\n",
    "from itertools import permutations, combinations\n",
    "items = ['a', 'b', 'c']\n",
    "for index, permut in enumerate(permutations(items), 1):\n",
    "    print(index, permut)"
   ]
  },
  {
   "cell_type": "code",
   "execution_count": 5,
   "metadata": {},
   "outputs": [
    {
     "name": "stdout",
     "output_type": "stream",
     "text": [
      "1 ('a', 'b')\n",
      "2 ('a', 'c')\n",
      "3 ('b', 'c')\n"
     ]
    }
   ],
   "source": [
    "# in combinations the order is not taken into consideration\n",
    "# the second argument in combinations sets the length of each subgroup\n",
    "for index, permut in enumerate(combinations(items, 2), 1):\n",
    "    print(index, permut)"
   ]
  },
  {
   "cell_type": "code",
   "execution_count": 9,
   "metadata": {},
   "outputs": [
    {
     "name": "stdout",
     "output_type": "stream",
     "text": [
      "a1 b1 c1\n",
      "a2 b2 c2\n",
      "a3 b3 c3\n"
     ]
    }
   ],
   "source": [
    "# iter through more than one iterator at the same time: zip\n",
    "# if iters dont share length, zip ends at the first end index \n",
    "\n",
    "list_a = ['a1', 'a2', 'a3', 'a4']\n",
    "list_b = ['b1', 'b2', 'b3', 'b4', 'b5']\n",
    "list_c = ['c1', 'c2', 'c3']\n",
    "\n",
    "for a,b,c in zip(list_a, list_b, list_c):\n",
    "    print(a,b,c)"
   ]
  },
  {
   "cell_type": "code",
   "execution_count": 11,
   "metadata": {},
   "outputs": [
    {
     "name": "stdout",
     "output_type": "stream",
     "text": [
      "a1\n",
      "a2\n",
      "a3\n",
      "a4\n",
      "b1\n",
      "b2\n",
      "b3\n",
      "b4\n",
      "b5\n",
      "c1\n",
      "c2\n",
      "c3\n"
     ]
    }
   ],
   "source": [
    "# Concatenating 2 iterators: use the itertools.chain method:\n",
    "from itertools import chain\n",
    "for item in chain(list_a, list_b, list_c):\n",
    "    print(item)"
   ]
  },
  {
   "cell_type": "code",
   "execution_count": 13,
   "metadata": {},
   "outputs": [],
   "source": [
    "# Iterators in pipilines (or some environments in which memory recurses are limited)\n",
    "# a good way to handle these situations is using generators: they are memory efficient"
   ]
  },
  {
   "cell_type": "code",
   "execution_count": 17,
   "metadata": {},
   "outputs": [],
   "source": [
    "# In order to flatten a nested sequence, a recursive generator is needed:\n",
    "from collections import Iterable;\n",
    "\n",
    "items = [1, 2, [3, 4, [5, 6], 7], 8]"
   ]
  },
  {
   "cell_type": "code",
   "execution_count": 25,
   "metadata": {},
   "outputs": [],
   "source": [
    "def generator_flatter(items):\n",
    "    print(items)\n",
    "    for item in items:\n",
    "        print(item)\n",
    "        if not isinstance(item, int):\n",
    "            print('no lo reconoce como int')\n",
    "            for i in generator_flatter(item):\n",
    "                yield i\n",
    "        else:\n",
    "            yield item"
   ]
  },
  {
   "cell_type": "code",
   "execution_count": 26,
   "metadata": {},
   "outputs": [
    {
     "name": "stdout",
     "output_type": "stream",
     "text": [
      "[1, 2, [3, 4, [5, 6], 7], 8]\n",
      "1\n",
      "2\n",
      "[3, 4, [5, 6], 7]\n",
      "no lo reconoce como int\n",
      "[3, 4, [5, 6], 7]\n",
      "3\n",
      "4\n",
      "[5, 6]\n",
      "no lo reconoce como int\n",
      "[5, 6]\n",
      "5\n",
      "6\n",
      "7\n",
      "8\n"
     ]
    },
    {
     "data": {
      "text/plain": [
       "[1, 2, 3, 4, 5, 6, 7, 8]"
      ]
     },
     "execution_count": 26,
     "metadata": {},
     "output_type": "execute_result"
    }
   ],
   "source": [
    "[a for a in generator_flatter(items)]"
   ]
  },
  {
   "cell_type": "code",
   "execution_count": 10,
   "metadata": {},
   "outputs": [],
   "source": [
    "def flat_array(items):\n",
    "    aux = []\n",
    "    print(items)\n",
    "    for i in items:\n",
    "        print(i)\n",
    "        if isinstance(i, list):\n",
    "            for it in flat_array(i):\n",
    "                aux.append(it)\n",
    "        else:\n",
    "            aux.append(i)\n",
    "    return aux\n"
   ]
  },
  {
   "cell_type": "code",
   "execution_count": 13,
   "metadata": {},
   "outputs": [],
   "source": [
    "argumento = [3, 4, [5, [6,7,8]], 9]"
   ]
  },
  {
   "cell_type": "code",
   "execution_count": 14,
   "metadata": {},
   "outputs": [
    {
     "name": "stdout",
     "output_type": "stream",
     "text": [
      "[3, 4, [5, [6, 7, 8]], 9]\n",
      "3\n",
      "4\n",
      "[5, [6, 7, 8]]\n",
      "[5, [6, 7, 8]]\n",
      "5\n",
      "[6, 7, 8]\n",
      "[6, 7, 8]\n",
      "6\n",
      "7\n",
      "8\n",
      "9\n"
     ]
    },
    {
     "data": {
      "text/plain": [
       "[3, 4, 5, 6, 7, 8, 9]"
      ]
     },
     "execution_count": 14,
     "metadata": {},
     "output_type": "execute_result"
    }
   ],
   "source": [
    "flat_array(argumento)"
   ]
  },
  {
   "cell_type": "code",
   "execution_count": null,
   "metadata": {},
   "outputs": [],
   "source": []
  }
 ],
 "metadata": {
  "interpreter": {
   "hash": "916dbcbb3f70747c44a77c7bcd40155683ae19c65e1c03b4aa3499c5328201f1"
  },
  "kernelspec": {
   "display_name": "Python 3.8.10 64-bit",
   "name": "python3"
  },
  "language_info": {
   "codemirror_mode": {
    "name": "ipython",
    "version": 3
   },
   "file_extension": ".py",
   "mimetype": "text/x-python",
   "name": "python",
   "nbconvert_exporter": "python",
   "pygments_lexer": "ipython3",
   "version": "3.8.10"
  },
  "orig_nbformat": 4
 },
 "nbformat": 4,
 "nbformat_minor": 2
}
