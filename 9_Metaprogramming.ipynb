{
 "cells": [
  {
   "cell_type": "markdown",
   "metadata": {},
   "source": [
    "## Metaprogramming"
   ]
  },
  {
   "cell_type": "code",
   "execution_count": 1,
   "metadata": {},
   "outputs": [],
   "source": [
    "## Decorator: dont repeat your self function. with the use of a wrapper\n",
    "# add extra funcionality to a piece of code"
   ]
  },
  {
   "cell_type": "code",
   "execution_count": 2,
   "metadata": {},
   "outputs": [],
   "source": [
    "# For example time logging:\n",
    "\n",
    "import time\n",
    "\n",
    "def get_time_decorator(function):\n",
    "    def wraper(*args, **kwargs):\n",
    "        init_time = time.time()\n",
    "        value_result = function(*args, **kwargs)\n",
    "        print(f'Total computational time: {time.time() - init_time:,.2f}s')\n",
    "        return value_result\n",
    "    return wraper\n"
   ]
  },
  {
   "cell_type": "code",
   "execution_count": 3,
   "metadata": {},
   "outputs": [],
   "source": [
    "def add_function(a, b):\n",
    "    return a + b\n"
   ]
  },
  {
   "cell_type": "code",
   "execution_count": 4,
   "metadata": {},
   "outputs": [
    {
     "name": "stdout",
     "output_type": "stream",
     "text": [
      "Total computational time: 0.00s\n"
     ]
    },
    {
     "data": {
      "text/plain": [
       "7"
      ]
     },
     "execution_count": 4,
     "metadata": {},
     "output_type": "execute_result"
    }
   ],
   "source": [
    "# In order to get the time needed to make a call to the function add_function:\n",
    "get_time_decorator(add_function)(3, 4)"
   ]
  },
  {
   "cell_type": "code",
   "execution_count": 6,
   "metadata": {},
   "outputs": [
    {
     "name": "stdout",
     "output_type": "stream",
     "text": [
      "Total computational time: 0.00s\n"
     ]
    },
    {
     "data": {
      "text/plain": [
       "7"
      ]
     },
     "execution_count": 6,
     "metadata": {},
     "output_type": "execute_result"
    }
   ],
   "source": [
    "# Or in a eassier way, use @decorator notation:\n",
    "\n",
    "@get_time_decorator\n",
    "def add_function(a, b):\n",
    "    \"\"\"This is the add_function __doc__\"\"\"\n",
    "    \n",
    "    return a + b\n",
    "\n",
    "add_function(3, 4)"
   ]
  },
  {
   "cell_type": "code",
   "execution_count": 11,
   "metadata": {},
   "outputs": [
    {
     "name": "stdout",
     "output_type": "stream",
     "text": [
      "Help on function wraper in module __main__:\n",
      "\n",
      "wraper(*args, **kwargs)\n",
      "\n"
     ]
    },
    {
     "data": {
      "text/plain": [
       "(None, 'wraper')"
      ]
     },
     "execution_count": 11,
     "metadata": {},
     "output_type": "execute_result"
    }
   ],
   "source": [
    "# One thing to consider when adding a decorator to a function, is that you loose\n",
    "# the metadata of the funciont,  for example: doc string, name, etc:\n",
    "\n",
    "help(add_function), add_function.__name__"
   ]
  },
  {
   "cell_type": "code",
   "execution_count": 12,
   "metadata": {},
   "outputs": [],
   "source": [
    "def subs (a, b):\n",
    "    \"\"\"Return a - b\"\"\"\n",
    "\n",
    "    return a - b"
   ]
  },
  {
   "cell_type": "code",
   "execution_count": 13,
   "metadata": {},
   "outputs": [
    {
     "name": "stdout",
     "output_type": "stream",
     "text": [
      "Help on function subs in module __main__:\n",
      "\n",
      "subs(a, b)\n",
      "    Return a - b\n",
      "\n"
     ]
    },
    {
     "data": {
      "text/plain": [
       "(None, 'subs')"
      ]
     },
     "execution_count": 13,
     "metadata": {},
     "output_type": "execute_result"
    }
   ],
   "source": [
    "help(subs), subs.__name__"
   ]
  },
  {
   "cell_type": "code",
   "execution_count": 27,
   "metadata": {},
   "outputs": [],
   "source": [
    "# In order to keep this information, use the decorator wraps from functools:\n",
    "\n",
    "from functools import wraps\n",
    "\n",
    "def get_time_decorator(function):\n",
    "    @wraps(function)\n",
    "    def wraper(*args, **kwargs):\n",
    "        init_time = time.time()\n",
    "        value_result = function(*args, **kwargs)\n",
    "        print(f'Total computational time: {time.time() - init_time:,.2f}s')\n",
    "        return value_result\n",
    "    return wraper\n",
    "\n",
    "\n",
    "@get_time_decorator\n",
    "def add_function(a, b):\n",
    "    \"\"\"This is the add_function __doc__\"\"\"\n",
    "    return a + b"
   ]
  },
  {
   "cell_type": "code",
   "execution_count": 19,
   "metadata": {},
   "outputs": [
    {
     "name": "stdout",
     "output_type": "stream",
     "text": [
      "Help on function add_function in module __main__:\n",
      "\n",
      "add_function(a, b)\n",
      "    This is the add_function __doc__\n",
      "\n"
     ]
    }
   ],
   "source": [
    "help(add_function)"
   ]
  },
  {
   "cell_type": "code",
   "execution_count": 20,
   "metadata": {},
   "outputs": [
    {
     "name": "stdout",
     "output_type": "stream",
     "text": [
      "Total computational time: 0.00s\n"
     ]
    },
    {
     "data": {
      "text/plain": [
       "(7, 7)"
      ]
     },
     "execution_count": 20,
     "metadata": {},
     "output_type": "execute_result"
    }
   ],
   "source": [
    "# If using this functionality, your are always able to get the original wrapped function:\n",
    "add_function(3, 4), add_function.__wrapped__(3, 4)"
   ]
  },
  {
   "cell_type": "code",
   "execution_count": 28,
   "metadata": {},
   "outputs": [],
   "source": [
    "# In case it is needed to add an argument to the decorator:\n",
    "# It is needed to use a third function \n",
    "\n",
    "def get_time_decorator(decorator_argument):\n",
    "    def decorator(function):\n",
    "        @wraps(function)\n",
    "        def wraper(*args, **kwargs):\n",
    "            init_time = time.time()\n",
    "            value_result = function(*args, **kwargs)\n",
    "            print(f'Total computational time: {time.time() - init_time:,.2f}s', decorator_argument)\n",
    "            return value_result\n",
    "        return wraper\n",
    "    return decorator\n",
    "\n",
    "\n",
    "@get_time_decorator('this is a decorator argument')\n",
    "def add_function(a, b):\n",
    "    \"\"\"This is the add_function __doc__\"\"\"\n",
    "    return a + b"
   ]
  },
  {
   "cell_type": "code",
   "execution_count": 29,
   "metadata": {},
   "outputs": [
    {
     "name": "stdout",
     "output_type": "stream",
     "text": [
      "Total computational time: 0.00s this is a decorator argument\n"
     ]
    },
    {
     "data": {
      "text/plain": [
       "8"
      ]
     },
     "execution_count": 29,
     "metadata": {},
     "output_type": "execute_result"
    }
   ],
   "source": [
    "add_function(3,5)"
   ]
  },
  {
   "cell_type": "code",
   "execution_count": 33,
   "metadata": {},
   "outputs": [],
   "source": [
    "# Sometimes it is useful to define a decorator with optional arguments, in that case\n",
    "# we will need to use the functools.partial function:\n",
    "\n",
    "from functools import partial\n",
    "\n",
    "def get_time_decorator(function = None, *, decorator_argument = None):\n",
    "    if function is None:\n",
    "        return partial(get_time_decorator, decorator_argument = decorator_argument)\n",
    "    @wraps(function)\n",
    "    def wraper(*args, **kwargs):\n",
    "        init_time = time.time()\n",
    "        value_result = function(*args, **kwargs)\n",
    "        print(f'Total computational time: {time.time() - init_time:,.2f}s', decorator_argument)\n",
    "        return value_result\n",
    "    return wraper\n",
    "\n",
    "@get_time_decorator(decorator_argument = 'this is a decorator argument')\n",
    "def add_function(a, b):\n",
    "    \"\"\"This is the add_function __doc__\"\"\"\n",
    "    return a + b\n",
    "\n",
    "@get_time_decorator\n",
    "def add_function_2(a, b):\n",
    "    \"\"\"This is the add_function __doc__\"\"\"\n",
    "    return a + b "
   ]
  },
  {
   "cell_type": "code",
   "execution_count": 34,
   "metadata": {},
   "outputs": [
    {
     "name": "stdout",
     "output_type": "stream",
     "text": [
      "Total computational time: 0.00s this is a decorator argument\n",
      "Total computational time: 0.00s None\n"
     ]
    },
    {
     "data": {
      "text/plain": [
       "(3, 3)"
      ]
     },
     "execution_count": 34,
     "metadata": {},
     "output_type": "execute_result"
    }
   ],
   "source": [
    "add_function(1, 2), add_function_2(1, 2)"
   ]
  },
  {
   "cell_type": "code",
   "execution_count": null,
   "metadata": {},
   "outputs": [],
   "source": [
    "# A common decorator usecase is make a type assertion for the arguments of a function\n",
    "\n",
    "def type_assertion_decorator(function = None, *decorator_args, **decorator_kwargs):\n",
    "    def wrapper(*args, **kwargs):\n",
    "        for args_i, decorator_args_i in zip(args, decorator_args):\n",
    "            if not isinstance(args_i, decorator_args_i):\n",
    "                raise TypeError(f'Argument {args_i} of type {type(args_i)} must be of type: {decorator_args_i}')\n",
    "            \n",
    "        for key, value \n"
   ]
  }
 ],
 "metadata": {
  "interpreter": {
   "hash": "1ddab33c8be23e2b8d5ea67563678407b1cabbeae0c56791730ff986c308610f"
  },
  "kernelspec": {
   "display_name": "Python 3.8.8 64-bit ('demo': conda)",
   "language": "python",
   "name": "python3"
  },
  "language_info": {
   "codemirror_mode": {
    "name": "ipython",
    "version": 3
   },
   "file_extension": ".py",
   "mimetype": "text/x-python",
   "name": "python",
   "nbconvert_exporter": "python",
   "pygments_lexer": "ipython3",
   "version": "3.8.8"
  },
  "orig_nbformat": 4
 },
 "nbformat": 4,
 "nbformat_minor": 2
}
