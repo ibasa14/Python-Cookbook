{
 "cells": [
  {
   "cell_type": "markdown",
   "metadata": {},
   "source": [
    "## Classes and Objects"
   ]
  },
  {
   "cell_type": "code",
   "execution_count": 6,
   "metadata": {},
   "outputs": [],
   "source": [
    "# In order to change the representation of an object, set methods __repr__ and __str__\n",
    "# If method __str__ is not provided, __repr__ will be called as a fallback\n",
    "\n",
    "class ClassA:\n",
    "    def __init__(self, attribute):\n",
    "        self.attribute_1 = attribute"
   ]
  },
  {
   "cell_type": "code",
   "execution_count": 9,
   "metadata": {},
   "outputs": [
    {
     "data": {
      "text/plain": [
       "<__main__.ClassA at 0x25904eee670>"
      ]
     },
     "execution_count": 9,
     "metadata": {},
     "output_type": "execute_result"
    }
   ],
   "source": [
    "classA_instance_1 = ClassA('attribute_1_value')\n",
    "classA_instance_1"
   ]
  },
  {
   "cell_type": "code",
   "execution_count": 20,
   "metadata": {},
   "outputs": [],
   "source": [
    "class ClassB(ClassA):\n",
    "    def __init__(self, attribute, attribute2):\n",
    "        super(ClassB, self).__init__(attribute)\n",
    "        self.attribute_2 = attribute2\n",
    "    \n",
    "    def __repr__(self):\n",
    "        return f\"This is first attribute: {self.attribute_1} This is second attribute: {self.attribute_2}\"\n"
   ]
  },
  {
   "cell_type": "code",
   "execution_count": 21,
   "metadata": {},
   "outputs": [
    {
     "data": {
      "text/plain": [
       "This is first attribute: attribute_1_value This is second attribute: attribute_2_value"
      ]
     },
     "execution_count": 21,
     "metadata": {},
     "output_type": "execute_result"
    }
   ],
   "source": [
    "classB_instance_1 = ClassB('attribute_1_value', 'attribute_2_value')\n",
    "classB_instance_1"
   ]
  },
  {
   "cell_type": "code",
   "execution_count": 22,
   "metadata": {},
   "outputs": [
    {
     "data": {
      "text/plain": [
       "'This is first attribute: attribute_1_value This is second attribute: attribute_2_value'"
      ]
     },
     "execution_count": 22,
     "metadata": {},
     "output_type": "execute_result"
    }
   ],
   "source": [
    "str(classB_instance_1)"
   ]
  },
  {
   "cell_type": "code",
   "execution_count": 29,
   "metadata": {},
   "outputs": [],
   "source": [
    "## Allow formatting in a class\n",
    "from datetime import datetime\n",
    "class ClassC(ClassB):\n",
    "    def __init__(self, *args, day, month, year, **kwargs):\n",
    "        super(ClassC, self).__init__(*args, **kwargs)\n",
    "        self.day = day\n",
    "        self.month = month\n",
    "        self.year = year\n",
    "        self._formats = {\n",
    "            'ymd' : '{d.year}-{d.month}-{d.day}',\n",
    "            'mdy' : '{d.month}/{d.day}/{d.year}',\n",
    "            'dmy' : '{d.day}/{d.month}/{d.year}'\n",
    "        }\n",
    "    def __format__(self, code):\n",
    "        if self._formats.get(code) is None:\n",
    "            code = 'ymd'\n",
    "        fmt = self._formats[code]\n",
    "        return fmt.format(d = self)\n"
   ]
  },
  {
   "cell_type": "code",
   "execution_count": 33,
   "metadata": {},
   "outputs": [],
   "source": [
    "my_date = datetime(2021, 11, 12)\n",
    "classC_instance = ClassC(1, 2, day = 1, month = 1, year = 2021)"
   ]
  },
  {
   "cell_type": "code",
   "execution_count": 37,
   "metadata": {},
   "outputs": [
    {
     "data": {
      "text/plain": [
       "('2021-1-1', 'The date is 1/1/2021', 'The date is -> 1/1/2021')"
      ]
     },
     "execution_count": 37,
     "metadata": {},
     "output_type": "execute_result"
    }
   ],
   "source": [
    "format(classC_instance), 'The date is {:mdy}'.format(classC_instance), f\"The date is -> {classC_instance:dmy}\""
   ]
  },
  {
   "cell_type": "code",
   "execution_count": 38,
   "metadata": {},
   "outputs": [],
   "source": [
    "# In order to implemennt the context manager into a class, the methods __enter__ and __exit__ should\n",
    "# be defined."
   ]
  },
  {
   "cell_type": "code",
   "execution_count": 54,
   "metadata": {},
   "outputs": [],
   "source": [
    "# Encapsulating private data (attributes, methods) in classes\n",
    "# There is no real way of doing this, however, with the \"_*\" notation\n",
    "# as a convention you can let the other programmers assume that method/attribute\n",
    "# should not be accessed\n",
    "\n",
    "class A:\n",
    "    def __init__(self):\n",
    "        self._interal = 0\n",
    "        self.public = 1\n",
    "\n",
    "    def public_method(self):\n",
    "        pass\n",
    "\n",
    "    def _private_method(self):\n",
    "        pass"
   ]
  },
  {
   "cell_type": "code",
   "execution_count": 1,
   "metadata": {},
   "outputs": [],
   "source": [
    "# Manage access to an attribute of an object with the Property method:\n",
    "# For example you with to check wether firstname passed attribute is an string\n",
    "\n",
    "# By doing this you cannot check the condition in the initializacion, example\n",
    "class Person:\n",
    "    def __init__(self, first_name):\n",
    "        self._first_name = first_name\n",
    "\n",
    "    # Getter function\n",
    "    @property\n",
    "    def first_name(self):\n",
    "        return self._first_name\n",
    "\n",
    "    # Setter function\n",
    "    @first_name.setter\n",
    "    def first_name(self, value):\n",
    "        if not isinstance(value, str):\n",
    "            raise TypeError('Expected a string')\n",
    "        self._first_name = value\n",
    "    \n",
    "    # Deleter function (optional)\n",
    "    @first_name.deleter\n",
    "    def first_name(self):\n",
    "        raise AttributeError(\"Can't delete attribute\")\n",
    "\n",
    "\n",
    "guido = Person(2)"
   ]
  },
  {
   "cell_type": "code",
   "execution_count": 4,
   "metadata": {},
   "outputs": [
    {
     "ename": "TypeError",
     "evalue": "Expected a string",
     "output_type": "error",
     "traceback": [
      "\u001b[1;31m---------------------------------------------------------------------------\u001b[0m",
      "\u001b[1;31mTypeError\u001b[0m                                 Traceback (most recent call last)",
      "\u001b[1;32m<ipython-input-4-00024b78f921>\u001b[0m in \u001b[0;36m<module>\u001b[1;34m\u001b[0m\n\u001b[0;32m      3\u001b[0m         \u001b[0mself\u001b[0m\u001b[1;33m.\u001b[0m\u001b[0mfirst_name\u001b[0m \u001b[1;33m=\u001b[0m \u001b[0mfirst_name\u001b[0m\u001b[1;33m\u001b[0m\u001b[1;33m\u001b[0m\u001b[0m\n\u001b[0;32m      4\u001b[0m \u001b[1;33m\u001b[0m\u001b[0m\n\u001b[1;32m----> 5\u001b[1;33m \u001b[0mguido2\u001b[0m \u001b[1;33m=\u001b[0m \u001b[0mPerson2\u001b[0m\u001b[1;33m(\u001b[0m\u001b[1;36m2\u001b[0m\u001b[1;33m)\u001b[0m\u001b[1;33m\u001b[0m\u001b[1;33m\u001b[0m\u001b[0m\n\u001b[0m",
      "\u001b[1;32m<ipython-input-4-00024b78f921>\u001b[0m in \u001b[0;36m__init__\u001b[1;34m(self, first_name)\u001b[0m\n\u001b[0;32m      1\u001b[0m \u001b[1;32mclass\u001b[0m \u001b[0mPerson2\u001b[0m\u001b[1;33m(\u001b[0m\u001b[0mPerson\u001b[0m\u001b[1;33m)\u001b[0m\u001b[1;33m:\u001b[0m\u001b[1;33m\u001b[0m\u001b[1;33m\u001b[0m\u001b[0m\n\u001b[0;32m      2\u001b[0m     \u001b[1;32mdef\u001b[0m \u001b[0m__init__\u001b[0m\u001b[1;33m(\u001b[0m\u001b[0mself\u001b[0m\u001b[1;33m,\u001b[0m \u001b[0mfirst_name\u001b[0m\u001b[1;33m)\u001b[0m\u001b[1;33m:\u001b[0m\u001b[1;33m\u001b[0m\u001b[1;33m\u001b[0m\u001b[0m\n\u001b[1;32m----> 3\u001b[1;33m         \u001b[0mself\u001b[0m\u001b[1;33m.\u001b[0m\u001b[0mfirst_name\u001b[0m \u001b[1;33m=\u001b[0m \u001b[0mfirst_name\u001b[0m\u001b[1;33m\u001b[0m\u001b[1;33m\u001b[0m\u001b[0m\n\u001b[0m\u001b[0;32m      4\u001b[0m \u001b[1;33m\u001b[0m\u001b[0m\n\u001b[0;32m      5\u001b[0m \u001b[0mguido2\u001b[0m \u001b[1;33m=\u001b[0m \u001b[0mPerson2\u001b[0m\u001b[1;33m(\u001b[0m\u001b[1;36m2\u001b[0m\u001b[1;33m)\u001b[0m\u001b[1;33m\u001b[0m\u001b[1;33m\u001b[0m\u001b[0m\n",
      "\u001b[1;32m<ipython-input-1-2b5de8ab9c58>\u001b[0m in \u001b[0;36mfirst_name\u001b[1;34m(self, value)\u001b[0m\n\u001b[0;32m     14\u001b[0m     \u001b[1;32mdef\u001b[0m \u001b[0mfirst_name\u001b[0m\u001b[1;33m(\u001b[0m\u001b[0mself\u001b[0m\u001b[1;33m,\u001b[0m \u001b[0mvalue\u001b[0m\u001b[1;33m)\u001b[0m\u001b[1;33m:\u001b[0m\u001b[1;33m\u001b[0m\u001b[1;33m\u001b[0m\u001b[0m\n\u001b[0;32m     15\u001b[0m         \u001b[1;32mif\u001b[0m \u001b[1;32mnot\u001b[0m \u001b[0misinstance\u001b[0m\u001b[1;33m(\u001b[0m\u001b[0mvalue\u001b[0m\u001b[1;33m,\u001b[0m \u001b[0mstr\u001b[0m\u001b[1;33m)\u001b[0m\u001b[1;33m:\u001b[0m\u001b[1;33m\u001b[0m\u001b[1;33m\u001b[0m\u001b[0m\n\u001b[1;32m---> 16\u001b[1;33m             \u001b[1;32mraise\u001b[0m \u001b[0mTypeError\u001b[0m\u001b[1;33m(\u001b[0m\u001b[1;34m'Expected a string'\u001b[0m\u001b[1;33m)\u001b[0m\u001b[1;33m\u001b[0m\u001b[1;33m\u001b[0m\u001b[0m\n\u001b[0m\u001b[0;32m     17\u001b[0m         \u001b[0mself\u001b[0m\u001b[1;33m.\u001b[0m\u001b[0m_first_name\u001b[0m \u001b[1;33m=\u001b[0m \u001b[0mvalue\u001b[0m\u001b[1;33m\u001b[0m\u001b[1;33m\u001b[0m\u001b[0m\n\u001b[0;32m     18\u001b[0m \u001b[1;33m\u001b[0m\u001b[0m\n",
      "\u001b[1;31mTypeError\u001b[0m: Expected a string"
     ]
    }
   ],
   "source": [
    "# In order to call the setter on the class constructor, you should call it\n",
    "# when assinging the attribute as a call for the setter\n",
    "# Then in the setter, you cannot use the return value with the exact name\n",
    "# of the setter, so this is why you call the setter first_name and the attribute\n",
    "# being set _first_name\n",
    "class Person2(Person):\n",
    "    def __init__(self, first_name):\n",
    "        self.first_name = first_name\n",
    "\n",
    "guido2 = Person2(2)"
   ]
  },
  {
   "cell_type": "code",
   "execution_count": 5,
   "metadata": {},
   "outputs": [
    {
     "name": "stdout",
     "output_type": "stream",
     "text": [
      "Ignacio Ignacio\n"
     ]
    }
   ],
   "source": [
    "ignacio = Person2('Ignacio')\n",
    "print(ignacio.first_name, ignacio._first_name)"
   ]
  },
  {
   "cell_type": "code",
   "execution_count": 64,
   "metadata": {},
   "outputs": [],
   "source": [
    "guido.first_name = 'Guidoo'"
   ]
  },
  {
   "cell_type": "code",
   "execution_count": 65,
   "metadata": {},
   "outputs": [
    {
     "data": {
      "text/plain": [
       "'Guidoo'"
      ]
     },
     "execution_count": 65,
     "metadata": {},
     "output_type": "execute_result"
    }
   ],
   "source": [
    "guido.first_name"
   ]
  },
  {
   "cell_type": "code",
   "execution_count": 60,
   "metadata": {},
   "outputs": [
    {
     "ename": "AttributeError",
     "evalue": "Can't delete attribute",
     "output_type": "error",
     "traceback": [
      "\u001b[1;31m---------------------------------------------------------------------------\u001b[0m",
      "\u001b[1;31mAttributeError\u001b[0m                            Traceback (most recent call last)",
      "\u001b[1;32m<ipython-input-60-6fa369af960f>\u001b[0m in \u001b[0;36m<module>\u001b[1;34m\u001b[0m\n\u001b[1;32m----> 1\u001b[1;33m \u001b[1;32mdel\u001b[0m \u001b[0mguido\u001b[0m\u001b[1;33m.\u001b[0m\u001b[0mfirst_name\u001b[0m\u001b[1;33m\u001b[0m\u001b[1;33m\u001b[0m\u001b[0m\n\u001b[0m",
      "\u001b[1;32m<ipython-input-55-2b5de8ab9c58>\u001b[0m in \u001b[0;36mfirst_name\u001b[1;34m(self)\u001b[0m\n\u001b[0;32m     20\u001b[0m     \u001b[1;33m@\u001b[0m\u001b[0mfirst_name\u001b[0m\u001b[1;33m.\u001b[0m\u001b[0mdeleter\u001b[0m\u001b[1;33m\u001b[0m\u001b[1;33m\u001b[0m\u001b[0m\n\u001b[0;32m     21\u001b[0m     \u001b[1;32mdef\u001b[0m \u001b[0mfirst_name\u001b[0m\u001b[1;33m(\u001b[0m\u001b[0mself\u001b[0m\u001b[1;33m)\u001b[0m\u001b[1;33m:\u001b[0m\u001b[1;33m\u001b[0m\u001b[1;33m\u001b[0m\u001b[0m\n\u001b[1;32m---> 22\u001b[1;33m         \u001b[1;32mraise\u001b[0m \u001b[0mAttributeError\u001b[0m\u001b[1;33m(\u001b[0m\u001b[1;34m\"Can't delete attribute\"\u001b[0m\u001b[1;33m)\u001b[0m\u001b[1;33m\u001b[0m\u001b[1;33m\u001b[0m\u001b[0m\n\u001b[0m",
      "\u001b[1;31mAttributeError\u001b[0m: Can't delete attribute"
     ]
    }
   ],
   "source": [
    "del guido.first_name"
   ]
  },
  {
   "cell_type": "code",
   "execution_count": 17,
   "metadata": {},
   "outputs": [],
   "source": [
    "# Invoke a method from the parent class: super()\n",
    "\n",
    "# Metaclasses and interfaces: use abc library and ABDMeta, abstractmethod\n",
    "# There are commonly used to force the inherited classes follow some rules\n",
    "# I mean, they are used as templates for other classes.\n",
    "# abd stands for Abstract Base Class\n",
    "\n",
    "# Abstract methods MUST be implemented in the subclasses\n",
    "# Metaclasses cant be instantiated \n",
    "\n",
    "from abc import ABCMeta, abstractmethod\n",
    "\n",
    "class Pizza_interface(metaclass = ABCMeta):\n",
    "\n",
    "    @abstractmethod\n",
    "    def cook(self):\n",
    "        pass\n",
    "\n",
    "    # @property\n",
    "    # @abstractmethod\n",
    "    # def ingredients(self):\n",
    "    #     return self._ingredients\n",
    "\n",
    "    # @ingredients.setter\n",
    "    # @abstractmethod\n",
    "    # def ingredients(self, ingredients):\n",
    "    #     if isinstance(ingredients, list):\n",
    "    #         self._ingredients = ingredients\n",
    "    #     else:\n",
    "    #         raise(TypeError, f'Ingredients must be a list, not {type(ingredients)}')\n",
    "\n",
    "\n",
    "class PizzaBBQ(Pizza_interface):\n",
    "\n",
    "    INGREDIENTS = ['jam', 'meat', 'bacon', 'bbq_sauce']\n",
    "\n",
    "    def __init__(self):\n",
    "        self.ingredients = list()\n",
    "\n",
    "    # def cook(self):\n",
    "    #     self.ingredients = list(self.INGREDIENTS)\n",
    "\n",
    "    def __repr__(self):\n",
    "        return f\"{type(self)}, ingredients: {self.ingredients}\"\n"
   ]
  },
  {
   "cell_type": "code",
   "execution_count": 18,
   "metadata": {},
   "outputs": [
    {
     "ename": "TypeError",
     "evalue": "Can't instantiate abstract class PizzaBBQ with abstract methods cook",
     "output_type": "error",
     "traceback": [
      "\u001b[1;31m---------------------------------------------------------------------------\u001b[0m",
      "\u001b[1;31mTypeError\u001b[0m                                 Traceback (most recent call last)",
      "\u001b[1;32m<ipython-input-18-d2f8c5481dac>\u001b[0m in \u001b[0;36m<module>\u001b[1;34m\u001b[0m\n\u001b[1;32m----> 1\u001b[1;33m \u001b[0mpizza_bbq_1\u001b[0m \u001b[1;33m=\u001b[0m \u001b[0mPizzaBBQ\u001b[0m\u001b[1;33m(\u001b[0m\u001b[1;33m)\u001b[0m\u001b[1;33m\u001b[0m\u001b[1;33m\u001b[0m\u001b[0m\n\u001b[0m",
      "\u001b[1;31mTypeError\u001b[0m: Can't instantiate abstract class PizzaBBQ with abstract methods cook"
     ]
    }
   ],
   "source": [
    "# The subclass must implement all abstract methods:\n",
    "pizza_bbq_1 = PizzaBBQ()"
   ]
  },
  {
   "cell_type": "code",
   "execution_count": 19,
   "metadata": {},
   "outputs": [
    {
     "ename": "TypeError",
     "evalue": "Can't instantiate abstract class Pizza_interface with abstract methods cook",
     "output_type": "error",
     "traceback": [
      "\u001b[1;31m---------------------------------------------------------------------------\u001b[0m",
      "\u001b[1;31mTypeError\u001b[0m                                 Traceback (most recent call last)",
      "\u001b[1;32m<ipython-input-19-d2f744846513>\u001b[0m in \u001b[0;36m<module>\u001b[1;34m\u001b[0m\n\u001b[0;32m      1\u001b[0m \u001b[1;31m# Meta class cant be instantiated:\u001b[0m\u001b[1;33m\u001b[0m\u001b[1;33m\u001b[0m\u001b[1;33m\u001b[0m\u001b[0m\n\u001b[1;32m----> 2\u001b[1;33m \u001b[0mpizza\u001b[0m \u001b[1;33m=\u001b[0m \u001b[0mPizza_interface\u001b[0m\u001b[1;33m(\u001b[0m\u001b[1;33m)\u001b[0m\u001b[1;33m\u001b[0m\u001b[1;33m\u001b[0m\u001b[0m\n\u001b[0m",
      "\u001b[1;31mTypeError\u001b[0m: Can't instantiate abstract class Pizza_interface with abstract methods cook"
     ]
    }
   ],
   "source": [
    "# Meta class cant be instantiated:\n",
    "pizza = Pizza_interface()"
   ]
  },
  {
   "cell_type": "code",
   "execution_count": 24,
   "metadata": {},
   "outputs": [],
   "source": [
    "class PizzaBBQ(Pizza_interface):\n",
    "\n",
    "    INGREDIENTS = ['jam', 'meat', 'bacon', 'bbq_sauce']\n",
    "\n",
    "    def __init__(self):\n",
    "        self.ingredients = list()\n",
    "\n",
    "    def cook(self):\n",
    "        self.ingredients = list(self.INGREDIENTS)\n",
    "\n",
    "    def __repr__(self):\n",
    "        return f\"{type(self)}, ingredients: {self.ingredients}\""
   ]
  },
  {
   "cell_type": "code",
   "execution_count": 25,
   "metadata": {},
   "outputs": [
    {
     "data": {
      "text/plain": [
       "<class '__main__.PizzaBBQ'>, ingredients: []"
      ]
     },
     "execution_count": 25,
     "metadata": {},
     "output_type": "execute_result"
    }
   ],
   "source": [
    "pizza_bbq_2 = PizzaBBQ()\n",
    "pizza_bbq_2"
   ]
  },
  {
   "cell_type": "code",
   "execution_count": 26,
   "metadata": {},
   "outputs": [
    {
     "data": {
      "text/plain": [
       "<class '__main__.PizzaBBQ'>, ingredients: ['jam', 'meat', 'bacon', 'bbq_sauce']"
      ]
     },
     "execution_count": 26,
     "metadata": {},
     "output_type": "execute_result"
    }
   ],
   "source": [
    "pizza_bbq_2.cook()\n",
    "pizza_bbq_2"
   ]
  },
  {
   "cell_type": "code",
   "execution_count": 15,
   "metadata": {},
   "outputs": [],
   "source": [
    "# Descriptors: used when chekcs or assertions have to be placed on instance attributes\n",
    "\n",
    "class Descriptor():\n",
    "    def __init__(self, name = None, **opts):\n",
    "        self.name = name\n",
    "        for key, value in opts.items():\n",
    "            setattr(self, key, value)\n",
    "        \n",
    "    def __set__(self, instance, value):\n",
    "        instance.__dict__[self.name] = value\n",
    "\n",
    "class TypedInt(Descriptor):\n",
    "    expected_type = int\n",
    "    def __set__(self, instance, value):\n",
    "        super(TypedInt, self).__set__(instance, value)\n",
    "        if not isinstance(value, self.expected_type):\n",
    "            raise TypeError(f'expected {self.expected_type}, got {type(value)}')"
   ]
  },
  {
   "cell_type": "code",
   "execution_count": 1,
   "metadata": {},
   "outputs": [],
   "source": [
    "class RandomClass():\n",
    "    random_attribute = TypedInt()\n",
    "    def __init__(self, random_attribute):\n",
    "        self.random_attribute = random_attribute\n",
    "\n",
    "    @property\n",
    "    def random_attribute(self):\n",
    "        return self._random_attribute\n",
    "\n",
    "    @random_attribute.setter\n",
    "    def random_attribute(self, random_attribute):\n",
    "        self._random_attribute = random_attribute\n"
   ]
  },
  {
   "cell_type": "code",
   "execution_count": 14,
   "metadata": {},
   "outputs": [
    {
     "data": {
      "text/plain": [
       "NoneType"
      ]
     },
     "execution_count": 14,
     "metadata": {},
     "output_type": "execute_result"
    }
   ],
   "source": [
    "type(None)"
   ]
  },
  {
   "cell_type": "code",
   "execution_count": 4,
   "metadata": {},
   "outputs": [
    {
     "data": {
      "text/plain": [
       "{'brand': 'Ford'}"
      ]
     },
     "execution_count": 4,
     "metadata": {},
     "output_type": "execute_result"
    }
   ],
   "source": [
    "coche_1.__dict__"
   ]
  },
  {
   "cell_type": "code",
   "execution_count": 12,
   "metadata": {},
   "outputs": [
    {
     "data": {
      "text/plain": [
       "(174007664388, 2784122630208)"
      ]
     },
     "execution_count": 12,
     "metadata": {},
     "output_type": "execute_result"
    }
   ],
   "source": [
    "coche_1.__hash__(), id(coche_1)"
   ]
  },
  {
   "cell_type": "code",
   "execution_count": 5,
   "metadata": {},
   "outputs": [
    {
     "data": {
      "text/plain": [
       "['__class__',\n",
       " '__delattr__',\n",
       " '__dict__',\n",
       " '__dir__',\n",
       " '__doc__',\n",
       " '__eq__',\n",
       " '__format__',\n",
       " '__ge__',\n",
       " '__getattribute__',\n",
       " '__gt__',\n",
       " '__hash__',\n",
       " '__init__',\n",
       " '__init_subclass__',\n",
       " '__le__',\n",
       " '__lt__',\n",
       " '__module__',\n",
       " '__ne__',\n",
       " '__new__',\n",
       " '__reduce__',\n",
       " '__reduce_ex__',\n",
       " '__repr__',\n",
       " '__setattr__',\n",
       " '__sizeof__',\n",
       " '__str__',\n",
       " '__subclasshook__',\n",
       " '__weakref__',\n",
       " 'brand']"
      ]
     },
     "execution_count": 5,
     "metadata": {},
     "output_type": "execute_result"
    }
   ],
   "source": [
    "dir(coche_1)"
   ]
  },
  {
   "cell_type": "code",
   "execution_count": null,
   "metadata": {},
   "outputs": [],
   "source": []
  }
 ],
 "metadata": {
  "interpreter": {
   "hash": "1ddab33c8be23e2b8d5ea67563678407b1cabbeae0c56791730ff986c308610f"
  },
  "kernelspec": {
   "display_name": "Python 3.8.8 64-bit ('demo': conda)",
   "language": "python",
   "name": "python3"
  },
  "language_info": {
   "codemirror_mode": {
    "name": "ipython",
    "version": 3
   },
   "file_extension": ".py",
   "mimetype": "text/x-python",
   "name": "python",
   "nbconvert_exporter": "python",
   "pygments_lexer": "ipython3",
   "version": "3.8.8"
  },
  "orig_nbformat": 4
 },
 "nbformat": 4,
 "nbformat_minor": 2
}
