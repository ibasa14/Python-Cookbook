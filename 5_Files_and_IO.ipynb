{
 "cells": [
  {
   "cell_type": "markdown",
   "metadata": {},
   "source": [
    "## Files and IO\n"
   ]
  },
  {
   "cell_type": "code",
   "execution_count": 1,
   "metadata": {},
   "outputs": [
    {
     "name": "stdout",
     "output_type": "stream",
     "text": [
      "first line\n",
      "second line\n",
      "third line\n",
      "fourth line\n",
      "fifth line\n",
      "python is in line #6\n",
      "other line\n",
      "\n"
     ]
    }
   ],
   "source": [
    "# Reading and writing text data\n",
    "with open('assets/search_text.txt', 'r') as file:\n",
    "    data = file.read()\n",
    "    print(data)"
   ]
  },
  {
   "cell_type": "code",
   "execution_count": 12,
   "metadata": {},
   "outputs": [
    {
     "name": "stdout",
     "output_type": "stream",
     "text": [
      "['first line\\n', 'second line\\n', 'third line\\n', 'fourth line\\n', 'fifth line\\n', 'python is in line #6\\n', 'other line\\n']\n",
      "1: first line\n",
      "2: second line\n",
      "3: third line\n",
      "4: fourth line\n",
      "5: fifth line\n",
      "6: python is in line #6\n",
      "7: other line\n"
     ]
    }
   ],
   "source": [
    "#Reading line by line:\n",
    "with open('assets/search_text.txt', 'r', encoding = 'utf-8', errors = 'replace') as file:\n",
    "    data = file.readlines()\n",
    "    print(data)\n",
    "    for line_number, line in enumerate(data, 1):\n",
    "        print(f\"{line_number}: {line}\", end='')"
   ]
  },
  {
   "cell_type": "code",
   "execution_count": 13,
   "metadata": {},
   "outputs": [],
   "source": [
    "# Write the print output into a file:\n",
    "with open('assets/new_file', 'w') as file:\n",
    "    print('New line printed inside the file', file = file)"
   ]
  },
  {
   "cell_type": "code",
   "execution_count": 14,
   "metadata": {},
   "outputs": [
    {
     "name": "stdout",
     "output_type": "stream",
     "text": [
      "ACME 50 91.5\n"
     ]
    }
   ],
   "source": [
    "# Change default separator and end of line in print:\n",
    "print('ACME', 50, 91.5)"
   ]
  },
  {
   "cell_type": "code",
   "execution_count": 15,
   "metadata": {},
   "outputs": [
    {
     "name": "stdout",
     "output_type": "stream",
     "text": [
      "ACME;50;91.5\n"
     ]
    }
   ],
   "source": [
    "print('ACME', 50, 91.5,  sep = ';')"
   ]
  },
  {
   "cell_type": "code",
   "execution_count": 16,
   "metadata": {},
   "outputs": [
    {
     "name": "stdout",
     "output_type": "stream",
     "text": [
      "ACME 50 91.5!!!"
     ]
    }
   ],
   "source": [
    "print('ACME', 50, 91.5, end = '!!!')"
   ]
  },
  {
   "cell_type": "code",
   "execution_count": 17,
   "metadata": {},
   "outputs": [],
   "source": [
    "# Performing IO operations on strings:\n",
    "# Useful for example when have code that works with documents (objects)\n",
    "# instead of strings, make this type of conversion could be helpful\n",
    "\n",
    "import io"
   ]
  },
  {
   "cell_type": "code",
   "execution_count": 23,
   "metadata": {},
   "outputs": [
    {
     "data": {
      "text/plain": [
       "12"
      ]
     },
     "execution_count": 23,
     "metadata": {},
     "output_type": "execute_result"
    }
   ],
   "source": [
    "s = io.StringIO()\n",
    "s.write('Hello World\\n')"
   ]
  },
  {
   "cell_type": "code",
   "execution_count": 24,
   "metadata": {},
   "outputs": [],
   "source": [
    "print('This is a test', file = s)"
   ]
  },
  {
   "cell_type": "code",
   "execution_count": 26,
   "metadata": {},
   "outputs": [
    {
     "data": {
      "text/plain": [
       "'Hello World\\nThis is a test\\n'"
      ]
     },
     "execution_count": 26,
     "metadata": {},
     "output_type": "execute_result"
    }
   ],
   "source": [
    "s.getvalue()"
   ]
  },
  {
   "cell_type": "code",
   "execution_count": 36,
   "metadata": {},
   "outputs": [],
   "source": [
    "# Reading and writing compressed files:\n",
    "#gzip compresion:\n",
    "\n",
    "import gzip\n",
    "\n",
    "# Need to be byte data, not str\n",
    "with gzip.open('assets/file.gz', 'w') as f:\n",
    "    f.write(b'test line')\n",
    "\n",
    "\n",
    "# bz2 compression (same with different name for the module)\n",
    "\n"
   ]
  },
  {
   "cell_type": "code",
   "execution_count": 37,
   "metadata": {},
   "outputs": [
    {
     "name": "stdout",
     "output_type": "stream",
     "text": [
      "test line\n"
     ]
    }
   ],
   "source": [
    "with gzip.open('assets/file.gz', 'r') as f:\n",
    "    data = f.read()\n",
    "    data_decoded = data.decode('utf-8')\n",
    "    print(data_decoded)"
   ]
  },
  {
   "cell_type": "code",
   "execution_count": null,
   "metadata": {},
   "outputs": [],
   "source": []
  },
  {
   "cell_type": "code",
   "execution_count": null,
   "metadata": {},
   "outputs": [],
   "source": []
  },
  {
   "cell_type": "code",
   "execution_count": null,
   "metadata": {},
   "outputs": [],
   "source": []
  }
 ],
 "metadata": {
  "interpreter": {
   "hash": "1ddab33c8be23e2b8d5ea67563678407b1cabbeae0c56791730ff986c308610f"
  },
  "kernelspec": {
   "display_name": "Python 3.8.8 64-bit ('demo': conda)",
   "language": "python",
   "name": "python3"
  },
  "language_info": {
   "codemirror_mode": {
    "name": "ipython",
    "version": 3
   },
   "file_extension": ".py",
   "mimetype": "text/x-python",
   "name": "python",
   "nbconvert_exporter": "python",
   "pygments_lexer": "ipython3",
   "version": "3.8.8"
  },
  "orig_nbformat": 4
 },
 "nbformat": 4,
 "nbformat_minor": 2
}
