{
 "cells": [
  {
   "cell_type": "markdown",
   "metadata": {},
   "source": [
    "## Files and IO\n"
   ]
  },
  {
   "cell_type": "code",
   "execution_count": 1,
   "metadata": {},
   "outputs": [
    {
     "name": "stdout",
     "output_type": "stream",
     "text": [
      "first line\n",
      "second line\n",
      "third line\n",
      "fourth line\n",
      "fifth line\n",
      "python is in line #6\n",
      "other line\n",
      "\n"
     ]
    }
   ],
   "source": [
    "# Reading and writing text data\n",
    "with open('assets/search_text.txt', 'r') as file:\n",
    "    data = file.read()\n",
    "    print(data)"
   ]
  },
  {
   "cell_type": "code",
   "execution_count": 12,
   "metadata": {},
   "outputs": [
    {
     "name": "stdout",
     "output_type": "stream",
     "text": [
      "['first line\\n', 'second line\\n', 'third line\\n', 'fourth line\\n', 'fifth line\\n', 'python is in line #6\\n', 'other line\\n']\n",
      "1: first line\n",
      "2: second line\n",
      "3: third line\n",
      "4: fourth line\n",
      "5: fifth line\n",
      "6: python is in line #6\n",
      "7: other line\n"
     ]
    }
   ],
   "source": [
    "#Reading line by line:\n",
    "with open('assets/search_text.txt', 'r', encoding = 'utf-8', errors = 'replace') as file:\n",
    "    data = file.readlines()\n",
    "    print(data)\n",
    "    for line_number, line in enumerate(data, 1):\n",
    "        print(f\"{line_number}: {line}\", end='')"
   ]
  },
  {
   "cell_type": "code",
   "execution_count": 13,
   "metadata": {},
   "outputs": [],
   "source": [
    "# Write the print output into a file:\n",
    "with open('assets/new_file', 'w') as file:\n",
    "    print('New line printed inside the file', file = file)"
   ]
  },
  {
   "cell_type": "code",
   "execution_count": 14,
   "metadata": {},
   "outputs": [
    {
     "name": "stdout",
     "output_type": "stream",
     "text": [
      "ACME 50 91.5\n"
     ]
    }
   ],
   "source": [
    "# Change default separator and end of line in print:\n",
    "print('ACME', 50, 91.5)"
   ]
  },
  {
   "cell_type": "code",
   "execution_count": 15,
   "metadata": {},
   "outputs": [
    {
     "name": "stdout",
     "output_type": "stream",
     "text": [
      "ACME;50;91.5\n"
     ]
    }
   ],
   "source": [
    "print('ACME', 50, 91.5,  sep = ';')"
   ]
  },
  {
   "cell_type": "code",
   "execution_count": 16,
   "metadata": {},
   "outputs": [
    {
     "name": "stdout",
     "output_type": "stream",
     "text": [
      "ACME 50 91.5!!!"
     ]
    }
   ],
   "source": [
    "print('ACME', 50, 91.5, end = '!!!')"
   ]
  },
  {
   "cell_type": "code",
   "execution_count": 17,
   "metadata": {},
   "outputs": [],
   "source": [
    "# Performing IO operations on strings:\n",
    "# Useful for example when have code that works with documents (objects)\n",
    "# instead of strings, make this type of conversion could be helpful\n",
    "\n",
    "import io"
   ]
  },
  {
   "cell_type": "code",
   "execution_count": 23,
   "metadata": {},
   "outputs": [
    {
     "data": {
      "text/plain": [
       "12"
      ]
     },
     "execution_count": 23,
     "metadata": {},
     "output_type": "execute_result"
    }
   ],
   "source": [
    "s = io.StringIO()\n",
    "s.write('Hello World\\n')"
   ]
  },
  {
   "cell_type": "code",
   "execution_count": 24,
   "metadata": {},
   "outputs": [],
   "source": [
    "print('This is a test', file = s)"
   ]
  },
  {
   "cell_type": "code",
   "execution_count": 26,
   "metadata": {},
   "outputs": [
    {
     "data": {
      "text/plain": [
       "'Hello World\\nThis is a test\\n'"
      ]
     },
     "execution_count": 26,
     "metadata": {},
     "output_type": "execute_result"
    }
   ],
   "source": [
    "s.getvalue()"
   ]
  },
  {
   "cell_type": "code",
   "execution_count": 36,
   "metadata": {},
   "outputs": [],
   "source": [
    "# Reading and writing compressed files:\n",
    "#gzip compresion:\n",
    "\n",
    "import gzip\n",
    "\n",
    "# Need to be byte data, not str\n",
    "with gzip.open('assets/file.gz', 'w') as f:\n",
    "    f.write(b'test line')\n",
    "\n",
    "\n",
    "# bz2 compression (same with different name for the module)\n",
    "\n"
   ]
  },
  {
   "cell_type": "code",
   "execution_count": 37,
   "metadata": {},
   "outputs": [
    {
     "name": "stdout",
     "output_type": "stream",
     "text": [
      "test line\n"
     ]
    }
   ],
   "source": [
    "with gzip.open('assets/file.gz', 'r') as f:\n",
    "    data = f.read()\n",
    "    data_decoded = data.decode('utf-8')\n",
    "    print(data_decoded)"
   ]
  },
  {
   "cell_type": "code",
   "execution_count": 1,
   "metadata": {},
   "outputs": [
    {
     "name": "stdout",
     "output_type": "stream",
     "text": [
      "file.txt\n"
     ]
    }
   ],
   "source": [
    "# Manipulating Pathnames\n",
    "# Get last component of a path:\n",
    "\n",
    "import os\n",
    "path = 'my/path/to/file.txt'\n",
    "\n",
    "print(os.path.basename(path))"
   ]
  },
  {
   "cell_type": "code",
   "execution_count": 2,
   "metadata": {},
   "outputs": [
    {
     "data": {
      "text/plain": [
       "'my/path/to'"
      ]
     },
     "execution_count": 2,
     "metadata": {},
     "output_type": "execute_result"
    }
   ],
   "source": [
    "# Get directory name\n",
    "os.path.dirname(path)"
   ]
  },
  {
   "cell_type": "code",
   "execution_count": 4,
   "metadata": {},
   "outputs": [
    {
     "name": "stdout",
     "output_type": "stream",
     "text": [
      "home/nacho\\my/path/to/file.txt\n"
     ]
    }
   ],
   "source": [
    "# Join path components:\n",
    "other_path = 'home/nacho'\n",
    "\n",
    "print(os.path.join(other_path, path))"
   ]
  },
  {
   "cell_type": "code",
   "execution_count": 5,
   "metadata": {},
   "outputs": [
    {
     "name": "stdout",
     "output_type": "stream",
     "text": [
      "C:\\Users\\nacho/my/new/path/to/file.txt\n"
     ]
    }
   ],
   "source": [
    "# Expand users\n",
    "new_path = '~/my/new/path/to/file.txt'\n",
    "expanded_new_path = os.path.expanduser(new_path)\n",
    "print(expanded_new_path)"
   ]
  },
  {
   "cell_type": "code",
   "execution_count": 6,
   "metadata": {},
   "outputs": [],
   "source": [
    "# Split file extension:\n",
    "path_with_no_extension, extension = os.path.splitext(expanded_new_path)"
   ]
  },
  {
   "cell_type": "code",
   "execution_count": 7,
   "metadata": {},
   "outputs": [
    {
     "name": "stdout",
     "output_type": "stream",
     "text": [
      "C:\\Users\\nacho/my/new/path/to/file .txt\n"
     ]
    }
   ],
   "source": [
    "print(path_with_no_extension, extension)"
   ]
  },
  {
   "cell_type": "code",
   "execution_count": 8,
   "metadata": {},
   "outputs": [
    {
     "name": "stdout",
     "output_type": "stream",
     "text": [
      "True\n"
     ]
    }
   ],
   "source": [
    "# Look for the existance of a file/directory\n",
    "\n",
    "print(os.path.isfile(os.path.join('assets', 'search_text.txt')))"
   ]
  },
  {
   "cell_type": "code",
   "execution_count": 9,
   "metadata": {},
   "outputs": [
    {
     "name": "stdout",
     "output_type": "stream",
     "text": [
      "True\n"
     ]
    }
   ],
   "source": [
    "print(os.path.isdir('assets'))"
   ]
  },
  {
   "cell_type": "code",
   "execution_count": 11,
   "metadata": {},
   "outputs": [
    {
     "name": "stdout",
     "output_type": "stream",
     "text": [
      "True\n"
     ]
    }
   ],
   "source": [
    "print(os.path.exists(os.path.join('assets', 'search_text.txt')))"
   ]
  },
  {
   "cell_type": "code",
   "execution_count": 12,
   "metadata": {},
   "outputs": [
    {
     "name": "stdout",
     "output_type": "stream",
     "text": [
      "False\n"
     ]
    }
   ],
   "source": [
    "# Get wether a path is a link\n",
    "print(os.path.islink('~\\Anaconda3\\python3'))\n",
    "\n",
    "# In case it was, get the target path of the link\n",
    "print(os.path.realpath('~\\Anaconda3\\python3'))"
   ]
  },
  {
   "cell_type": "code",
   "execution_count": 15,
   "metadata": {},
   "outputs": [
    {
     "name": "stdout",
     "output_type": "stream",
     "text": [
      "[] ['file.gz', 'new_file', 'search_text.txt']\n"
     ]
    }
   ],
   "source": [
    "# Get all the files dirs in existing on a directory:\n",
    "os.listdir('assets')\n",
    "subdirs = [p for p in os.listdir('assets') if os.path.isdir(os.path.join('assets', p))]\n",
    "files = [p for p in os.listdir('assets') if os.path.isfile(os.path.join('assets', p))]\n",
    "\n",
    "print(subdirs, files)"
   ]
  },
  {
   "cell_type": "code",
   "execution_count": 40,
   "metadata": {},
   "outputs": [
    {
     "name": "stdout",
     "output_type": "stream",
     "text": [
      "The size in bytes is: 96 B\n"
     ]
    }
   ],
   "source": [
    "# In order to check the size of a path in bytes:\n",
    "print(f\"The size in bytes is: {os.path.getsize('assets/search_text.txt')} B\")"
   ]
  },
  {
   "cell_type": "code",
   "execution_count": 19,
   "metadata": {},
   "outputs": [
    {
     "data": {
      "text/plain": [
       "['assets\\\\search_text.txt']"
      ]
     },
     "execution_count": 19,
     "metadata": {},
     "output_type": "execute_result"
    }
   ],
   "source": [
    "# Best way to use wildcards for files patterns\n",
    "import glob\n",
    "glob.glob('assets/*.txt')"
   ]
  },
  {
   "cell_type": "code",
   "execution_count": 26,
   "metadata": {},
   "outputs": [],
   "source": [
    "#Working with temporary files: best option is to use the tempfile\n",
    "from tempfile import TemporaryFile, TemporaryDirectory\n",
    "\n",
    "# These code creates a temporary file (when exit from the context, the file is deleted)\n",
    "with TemporaryFile('w+') as file:\n",
    "    file.write('This is the temporary file content')\n",
    "    # Essential, because read uses the pointer inside the file\n",
    "    # and read forwards\n",
    "    file.seek(0)\n",
    "    data = file.read()\n"
   ]
  },
  {
   "cell_type": "code",
   "execution_count": 29,
   "metadata": {},
   "outputs": [
    {
     "data": {
      "text/plain": [
       "'C:\\\\Users\\\\nacho\\\\AppData\\\\Local\\\\Temp'"
      ]
     },
     "execution_count": 29,
     "metadata": {},
     "output_type": "execute_result"
    }
   ],
   "source": [
    "# It is possible to use a NamedTemporaryFile, then use the argument delete = False\n",
    "# But in these case, the temporary file wont be temporary at all, the only thing to\n",
    "# take into account is that it will be saves in the temporary folder of the current OS\n",
    "# to check that:\n",
    "\n",
    "import tempfile\n",
    "from tempfile import NamedTemporaryFile\n",
    "\n",
    "tempfile.gettempdir()"
   ]
  },
  {
   "cell_type": "code",
   "execution_count": 33,
   "metadata": {},
   "outputs": [],
   "source": [
    "# So if need to create a \"temporary\" file in that path:\n",
    "\n",
    "with NamedTemporaryFile('w', encoding = 'utf-8', prefix = 'nachos_temp', suffix = '.txt', delete = False) as file:\n",
    "    file.writelines(['linea numero 1\\n', 'linea numero 2'])\n",
    "    # Get the path to that created file\n",
    "    file_name = file.name"
   ]
  },
  {
   "cell_type": "code",
   "execution_count": 34,
   "metadata": {},
   "outputs": [
    {
     "name": "stdout",
     "output_type": "stream",
     "text": [
      "linea numero 1\n",
      "linea numero 2\n"
     ]
    }
   ],
   "source": [
    "# Lets check for that code:\n",
    "\n",
    "if os.path.isfile(file_name):\n",
    "    with open(file_name, 'r') as file:\n",
    "        print(file.read())\n"
   ]
  },
  {
   "cell_type": "code",
   "execution_count": 5,
   "metadata": {},
   "outputs": [],
   "source": [
    "# Serializing Python objtects: best way is to use pickle or joblib\n",
    "# The difference is that pickle needs to open a file with a context\n",
    "# in order to be able to write. Instead, joblib allows to write direcly\n",
    "\n",
    "import pickle\n",
    "import joblib"
   ]
  },
  {
   "cell_type": "code",
   "execution_count": 6,
   "metadata": {},
   "outputs": [
    {
     "data": {
      "text/plain": [
       "['assets/my_exported_list.pkl']"
      ]
     },
     "execution_count": 6,
     "metadata": {},
     "output_type": "execute_result"
    }
   ],
   "source": [
    "my_list_to_export = [1,2,34,5]\n",
    "joblib.dump(my_list_to_export, 'assets/my_exported_list.pkl')"
   ]
  },
  {
   "cell_type": "code",
   "execution_count": 7,
   "metadata": {},
   "outputs": [],
   "source": [
    "my_imported_list = joblib.load('assets/my_exported_list.pkl')"
   ]
  },
  {
   "cell_type": "code",
   "execution_count": 8,
   "metadata": {},
   "outputs": [
    {
     "name": "stdout",
     "output_type": "stream",
     "text": [
      "True\n"
     ]
    }
   ],
   "source": [
    "print(my_list_to_export == my_imported_list)"
   ]
  },
  {
   "cell_type": "code",
   "execution_count": 15,
   "metadata": {},
   "outputs": [],
   "source": [
    "# Almost all objects in python could be serialize this way. However, it is not\n",
    "# a good option using it for large objects as big np or df, in this case\n",
    "# is better option using json/csv. In this case using pandas as a handler is useful\n",
    "\n",
    "import numpy as np\n",
    "import pandas as pd\n",
    "zero_arrays = np.zeros((21123, 234))"
   ]
  },
  {
   "cell_type": "code",
   "execution_count": 30,
   "metadata": {},
   "outputs": [],
   "source": [
    "pd.DataFrame(zero_arrays).to_csv('assets/zero_arrays.csv', index = False)"
   ]
  },
  {
   "cell_type": "code",
   "execution_count": 31,
   "metadata": {},
   "outputs": [],
   "source": [
    "zerro_arrays_imported = pd.read_csv('assets/zero_arrays.csv').values"
   ]
  },
  {
   "cell_type": "code",
   "execution_count": 32,
   "metadata": {},
   "outputs": [
    {
     "data": {
      "text/plain": [
       "(21123, 234)"
      ]
     },
     "execution_count": 32,
     "metadata": {},
     "output_type": "execute_result"
    }
   ],
   "source": [
    "zero_arrays.shape"
   ]
  },
  {
   "cell_type": "code",
   "execution_count": 33,
   "metadata": {},
   "outputs": [
    {
     "data": {
      "text/plain": [
       "(21123, 234)"
      ]
     },
     "execution_count": 33,
     "metadata": {},
     "output_type": "execute_result"
    }
   ],
   "source": [
    "zerro_arrays_imported.shape"
   ]
  },
  {
   "cell_type": "code",
   "execution_count": 34,
   "metadata": {},
   "outputs": [
    {
     "data": {
      "text/plain": [
       "True"
      ]
     },
     "execution_count": 34,
     "metadata": {},
     "output_type": "execute_result"
    }
   ],
   "source": [
    "np.array_equal(zero_arrays, zerro_arrays_imported)"
   ]
  }
 ],
 "metadata": {
  "interpreter": {
   "hash": "1ddab33c8be23e2b8d5ea67563678407b1cabbeae0c56791730ff986c308610f"
  },
  "kernelspec": {
   "display_name": "Python 3.8.8 64-bit ('demo': conda)",
   "language": "python",
   "name": "python3"
  },
  "language_info": {
   "codemirror_mode": {
    "name": "ipython",
    "version": 3
   },
   "file_extension": ".py",
   "mimetype": "text/x-python",
   "name": "python",
   "nbconvert_exporter": "python",
   "pygments_lexer": "ipython3",
   "version": "3.8.8"
  },
  "orig_nbformat": 4
 },
 "nbformat": 4,
 "nbformat_minor": 2
}
