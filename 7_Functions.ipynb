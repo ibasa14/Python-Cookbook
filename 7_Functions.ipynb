{
 "cells": [
  {
   "cell_type": "markdown",
   "metadata": {},
   "source": [
    "## Functions"
   ]
  },
  {
   "cell_type": "code",
   "execution_count": 6,
   "metadata": {},
   "outputs": [],
   "source": [
    "# Functions that accept any number of arguments: * notation\n",
    "from functools import reduce\n",
    "# from math import sum\n",
    "\n",
    "def argument_summatory(*args) -> float:\n",
    "    return reduce(lambda a, b: a+b, args)\n",
    "    "
   ]
  },
  {
   "cell_type": "code",
   "execution_count": 7,
   "metadata": {},
   "outputs": [
    {
     "data": {
      "text/plain": [
       "21"
      ]
     },
     "execution_count": 7,
     "metadata": {},
     "output_type": "execute_result"
    }
   ],
   "source": [
    "argument_summatory(1,2,3,4,5,6)"
   ]
  },
  {
   "cell_type": "code",
   "execution_count": 15,
   "metadata": {},
   "outputs": [],
   "source": [
    "# In order to accept any number of keyword argument: ** notation:\n",
    "def kwargs_function(**kwargs):\n",
    "    for key, value in kwargs.items():\n",
    "        print(f\"{key}: {value}\")"
   ]
  },
  {
   "cell_type": "code",
   "execution_count": 16,
   "metadata": {},
   "outputs": [
    {
     "name": "stdout",
     "output_type": "stream",
     "text": [
      "arg_1: arg_1_value\n",
      "arg_2: 2\n",
      "arg_3: [1, 2, 3]\n"
     ]
    }
   ],
   "source": [
    "# You can pass a dict as the argument when calling the function with the ** notation\n",
    "# or use the conventional way\n",
    "kwargs_function(arg_1 = 'arg_1_value', arg_2 = 2, arg_3 = [1,2,3])"
   ]
  },
  {
   "cell_type": "code",
   "execution_count": 17,
   "metadata": {},
   "outputs": [
    {
     "name": "stdout",
     "output_type": "stream",
     "text": [
      "key_1: value_1\n",
      "key_2: value_2\n"
     ]
    }
   ],
   "source": [
    "argument_as_dict = {'key_1': 'value_1', 'key_2': 'value_2'}\n",
    "kwargs_function(**argument_as_dict)"
   ]
  },
  {
   "cell_type": "code",
   "execution_count": 18,
   "metadata": {},
   "outputs": [],
   "source": [
    "# If want a function that accepts both any number of positional arguments and keywords:\n",
    "def just_another_function(*args, **kwargs):\n",
    "    print(f\"args as tuple: {args}\")\n",
    "    print(f\"kwrgs as dict: {kwargs}\")"
   ]
  },
  {
   "cell_type": "code",
   "execution_count": 22,
   "metadata": {},
   "outputs": [
    {
     "name": "stdout",
     "output_type": "stream",
     "text": [
      "args as tuple: (1, '234', 24, [123])\n",
      "kwrgs as dict: {'kwarg_1': 'value_1'}\n"
     ]
    }
   ],
   "source": [
    "just_another_function(1,'234', 24, [123], kwarg_1='value_1')"
   ]
  },
  {
   "cell_type": "code",
   "execution_count": 23,
   "metadata": {},
   "outputs": [],
   "source": [
    "# In order to define metadata in a function: i.e. argument types and output types:\n",
    "def my_add_function(arg1: int, arg2: int) -> int:\n",
    "    return arg1 + arg2"
   ]
  },
  {
   "cell_type": "code",
   "execution_count": 24,
   "metadata": {},
   "outputs": [
    {
     "data": {
      "text/plain": [
       "3"
      ]
     },
     "execution_count": 24,
     "metadata": {},
     "output_type": "execute_result"
    }
   ],
   "source": [
    "my_add_function(1,2)"
   ]
  },
  {
   "cell_type": "code",
   "execution_count": 25,
   "metadata": {},
   "outputs": [
    {
     "data": {
      "text/plain": [
       "66.34"
      ]
     },
     "execution_count": 25,
     "metadata": {},
     "output_type": "execute_result"
    }
   ],
   "source": [
    "# This annotations, wont make the function raise and error if datatypes dont match\n",
    "# what it is supposed to accept, in this case, an exception should be coded\n",
    "my_add_function(1.34, 65)"
   ]
  },
  {
   "cell_type": "code",
   "execution_count": 26,
   "metadata": {},
   "outputs": [
    {
     "data": {
      "text/plain": [
       "{'arg1': int, 'arg2': int, 'return': int}"
      ]
     },
     "execution_count": 26,
     "metadata": {},
     "output_type": "execute_result"
    }
   ],
   "source": [
    "# This information is saved on the __annotation__ attribute of the function:\n",
    "my_add_function.__annotations__"
   ]
  },
  {
   "cell_type": "code",
   "execution_count": 28,
   "metadata": {},
   "outputs": [],
   "source": [
    "# Default arguments:\n",
    "def example_default_argument(argument_1:int, argument_2:int = 5) -> int:\n",
    "    return argument_1 + argument_2"
   ]
  },
  {
   "cell_type": "code",
   "execution_count": 30,
   "metadata": {},
   "outputs": [
    {
     "name": "stdout",
     "output_type": "stream",
     "text": [
      "8\n",
      "7\n"
     ]
    }
   ],
   "source": [
    "print(example_default_argument(3))\n",
    "print(example_default_argument(2,5))"
   ]
  },
  {
   "cell_type": "code",
   "execution_count": 37,
   "metadata": {},
   "outputs": [],
   "source": [
    "# One thing to take into consideration when defining functions with default values\n",
    "# is that these values MUST be inmmutable: bollean, string, integer, None.\n",
    "# Avoid using mutable objects such as lists:\n",
    "\n",
    "def wrong_defined_function(arg1, arg2 = []):\n",
    "    return arg2"
   ]
  },
  {
   "cell_type": "code",
   "execution_count": 38,
   "metadata": {},
   "outputs": [
    {
     "data": {
      "text/plain": [
       "[]"
      ]
     },
     "execution_count": 38,
     "metadata": {},
     "output_type": "execute_result"
    }
   ],
   "source": [
    "my_list = wrong_defined_function(1)\n",
    "my_list"
   ]
  },
  {
   "cell_type": "code",
   "execution_count": 39,
   "metadata": {},
   "outputs": [],
   "source": [
    "my_list.append(4)"
   ]
  },
  {
   "cell_type": "code",
   "execution_count": 40,
   "metadata": {},
   "outputs": [
    {
     "name": "stdout",
     "output_type": "stream",
     "text": [
      "[4]\n"
     ]
    }
   ],
   "source": [
    "# The default argument has change, because is attached\n",
    "# to the return value of the function\n",
    "my_second_list = wrong_defined_function(1)\n",
    "print(my_second_list)"
   ]
  },
  {
   "cell_type": "code",
   "execution_count": 53,
   "metadata": {},
   "outputs": [
    {
     "name": "stdout",
     "output_type": "stream",
     "text": [
      "5\n"
     ]
    }
   ],
   "source": [
    "# Anonymous or inline functions: lambda functions\n",
    "\n",
    "add = lambda x, y: print(x + y)\n",
    "add(2,3)\n"
   ]
  },
  {
   "cell_type": "code",
   "execution_count": 54,
   "metadata": {},
   "outputs": [
    {
     "name": "stdout",
     "output_type": "stream",
     "text": [
      "['Ned Batchelder', 'David Beazley', 'Raymond Hettinger', 'Brian Jones']\n"
     ]
    }
   ],
   "source": [
    "# Commonly used with other operations such us sorted:\n",
    "names = ['David Beazley', 'Brian Jones', 'Raymond Hettinger', 'Ned Batchelder']\n",
    "\n",
    "# We want to sort this list based on surname:\n",
    "sorted_names = sorted(names, key = lambda a: a.split()[-1].lower())\n",
    "print(sorted_names)"
   ]
  },
  {
   "cell_type": "code",
   "execution_count": 74,
   "metadata": {},
   "outputs": [
    {
     "name": "stdout",
     "output_type": "stream",
     "text": [
      "1, 2, 3, 4\n"
     ]
    }
   ],
   "source": [
    "# Call a function with N arguments with fewer arguments: use functools.partial()\n",
    "# This basically is used to pass some of the arguments as fizxed values:\n",
    "\n",
    "def spam(a, b, c, d):\n",
    "    print(a, b, c, d, sep = r', ')\n",
    "spam(1, 2, 3, 4)"
   ]
  },
  {
   "cell_type": "code",
   "execution_count": 75,
   "metadata": {},
   "outputs": [
    {
     "name": "stdout",
     "output_type": "stream",
     "text": [
      "4, 2, 3, 4\n"
     ]
    }
   ],
   "source": [
    "from functools import partial\n",
    "\n",
    "# We can define a new function with a fixed value of some\n",
    "# of the arguments\n",
    "spam_with_fixed_a = partial(spam, 4)\n",
    "spam_with_fixed_a(2, 3, 4)"
   ]
  },
  {
   "cell_type": "code",
   "execution_count": 77,
   "metadata": {},
   "outputs": [
    {
     "name": "stdout",
     "output_type": "stream",
     "text": [
      "1, 2, 4, 2234\n"
     ]
    }
   ],
   "source": [
    "# Other example using = notation:\n",
    "spam_with_fixed_d = partial(spam, d=2234)\n",
    "spam_with_fixed_d(1, 2, 4)"
   ]
  },
  {
   "cell_type": "code",
   "execution_count": 73,
   "metadata": {},
   "outputs": [
    {
     "name": "stdout",
     "output_type": "stream",
     "text": [
      "2, 5, 1, 4\n"
     ]
    }
   ],
   "source": [
    "spam(d = 4, c = 1, b = 5, a = 2)"
   ]
  },
  {
   "cell_type": "code",
   "execution_count": 88,
   "metadata": {},
   "outputs": [],
   "source": [
    "# This could be useful for example qhen you are working with a code that has defined\n",
    "# a function with more attributes that you could use, for example in a sorted method:\n",
    "# Having a distance function like this one:\n",
    "\n",
    "import math\n",
    "def eu_distance(p1, p2):\n",
    "    return math.hypot(abs(p1[1]-p2[1]), abs(p1[0]-p2[0]))"
   ]
  },
  {
   "cell_type": "code",
   "execution_count": 92,
   "metadata": {},
   "outputs": [],
   "source": [
    "list_of_points = [(2,4), (23,1), (0,0), (0,6)]\n",
    "reference_point = (5,3)\n",
    "\n",
    "my_fixed_distance = partial(eu_distance, reference_point)\n",
    "ordered_list_of_points = sorted(list_of_points, key = my_fixed_distance)"
   ]
  },
  {
   "cell_type": "code",
   "execution_count": 93,
   "metadata": {},
   "outputs": [
    {
     "data": {
      "text/plain": [
       "[(2, 4), (0, 0), (0, 6), (23, 1)]"
      ]
     },
     "execution_count": 93,
     "metadata": {},
     "output_type": "execute_result"
    }
   ],
   "source": [
    "ordered_list_of_points"
   ]
  },
  {
   "cell_type": "code",
   "execution_count": null,
   "metadata": {},
   "outputs": [],
   "source": []
  }
 ],
 "metadata": {
  "interpreter": {
   "hash": "b65e09c39bf64dbfbde881598ed1fccea402f076da3543b41654862fcd304796"
  },
  "kernelspec": {
   "display_name": "Python 3.7.6 64-bit ('base': conda)",
   "language": "python",
   "name": "python3"
  },
  "language_info": {
   "codemirror_mode": {
    "name": "ipython",
    "version": 3
   },
   "file_extension": ".py",
   "mimetype": "text/x-python",
   "name": "python",
   "nbconvert_exporter": "python",
   "pygments_lexer": "ipython3",
   "version": "3.7.6"
  },
  "orig_nbformat": 4
 },
 "nbformat": 4,
 "nbformat_minor": 2
}
