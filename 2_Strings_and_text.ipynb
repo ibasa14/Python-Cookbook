{
 "cells": [
  {
   "cell_type": "markdown",
   "metadata": {},
   "source": [
    "## Strings and Text"
   ]
  },
  {
   "cell_type": "code",
   "execution_count": 1,
   "metadata": {},
   "outputs": [
    {
     "data": {
      "text/plain": [
       "['asdf', 'fjdk', 'afed', 'fjek', 'asdf', 'foo']"
      ]
     },
     "execution_count": 1,
     "metadata": {},
     "output_type": "execute_result"
    }
   ],
   "source": [
    "# Splitting strings on multiple delimiters\n",
    "# most of the times the str.split() method is too simple too\n",
    "# solve these kind of exercise. It is reccommended to use RE:\n",
    "\n",
    "import re\n",
    "\n",
    "line = 'asdf fjdk; afed, fjek,asdf,     foo'\n",
    "re.split(r'[,;\\s]\\s*', line)\n"
   ]
  },
  {
   "cell_type": "code",
   "execution_count": 2,
   "metadata": {},
   "outputs": [
    {
     "data": {
      "text/plain": [
       "['asdf', ' ', 'fjdk', ';', 'afed', ',', 'fjek', ',', 'asdf', ',', 'foo']"
      ]
     },
     "execution_count": 2,
     "metadata": {},
     "output_type": "execute_result"
    }
   ],
   "source": [
    "# If we need to get also the separators on the list, we can use\n",
    "# a capture group '()', example:\n",
    "\n",
    "re.split(r'(;|,|\\s)\\s*', line)"
   ]
  },
  {
   "cell_type": "code",
   "execution_count": 3,
   "metadata": {},
   "outputs": [],
   "source": [
    "# In case we need to recover the delimiters:\n",
    "delimiters = re.split(r'(;|,|\\s)\\s*', line)[1::2]"
   ]
  },
  {
   "cell_type": "code",
   "execution_count": 4,
   "metadata": {},
   "outputs": [
    {
     "data": {
      "text/plain": [
       "[' ', ';', ',', ',', ',']"
      ]
     },
     "execution_count": 4,
     "metadata": {},
     "output_type": "execute_result"
    }
   ],
   "source": [
    "delimiters"
   ]
  },
  {
   "cell_type": "code",
   "execution_count": 5,
   "metadata": {},
   "outputs": [
    {
     "data": {
      "text/plain": [
       "True"
      ]
     },
     "execution_count": 5,
     "metadata": {},
     "output_type": "execute_result"
    }
   ],
   "source": [
    "# To check start/end of a string: startswith, endswith:\n",
    "\n",
    "text = 'example text ends with: hello'\n",
    "text.endswith('hello')"
   ]
  },
  {
   "cell_type": "code",
   "execution_count": 6,
   "metadata": {},
   "outputs": [],
   "source": [
    "# We can also check from a list of endings by using tuple as argument:\n",
    "filenames= [ 'Makefile', 'foo.c', 'bar.py', 'spam.c', 'spam.h' ]"
   ]
  },
  {
   "cell_type": "code",
   "execution_count": 12,
   "metadata": {},
   "outputs": [],
   "source": [
    "c_and_py_filenames = list(filter(lambda a: a.endswith(('.py', 'c')), filenames))"
   ]
  },
  {
   "cell_type": "code",
   "execution_count": 13,
   "metadata": {},
   "outputs": [
    {
     "data": {
      "text/plain": [
       "['foo.c', 'bar.py', 'spam.c']"
      ]
     },
     "execution_count": 13,
     "metadata": {},
     "output_type": "execute_result"
    }
   ],
   "source": [
    "c_and_py_filenames"
   ]
  },
  {
   "cell_type": "code",
   "execution_count": 14,
   "metadata": {},
   "outputs": [],
   "source": [
    "# Matching Strings Using shell wildcard patterns: *.py: \n",
    "# fnmatch is used for these porpuse:\n",
    "\n",
    "import fnmatch"
   ]
  },
  {
   "cell_type": "code",
   "execution_count": 16,
   "metadata": {},
   "outputs": [
    {
     "data": {
      "text/plain": [
       "True"
      ]
     },
     "execution_count": 16,
     "metadata": {},
     "output_type": "execute_result"
    }
   ],
   "source": [
    "fnmatch.fnmatch('foo.txt', '*.txt')"
   ]
  },
  {
   "cell_type": "code",
   "execution_count": 17,
   "metadata": {},
   "outputs": [
    {
     "data": {
      "text/plain": [
       "True"
      ]
     },
     "execution_count": 17,
     "metadata": {},
     "output_type": "execute_result"
    }
   ],
   "source": [
    "fnmatch.fnmatch('foo.txt', '?oo.txt')"
   ]
  },
  {
   "cell_type": "code",
   "execution_count": 18,
   "metadata": {},
   "outputs": [
    {
     "data": {
      "text/plain": [
       "True"
      ]
     },
     "execution_count": 18,
     "metadata": {},
     "output_type": "execute_result"
    }
   ],
   "source": [
    "fnmatch.fnmatch('Dat45.csv', 'Dat[0-9]*')"
   ]
  },
  {
   "cell_type": "code",
   "execution_count": 27,
   "metadata": {},
   "outputs": [
    {
     "data": {
      "text/plain": [
       "True"
      ]
     },
     "execution_count": 27,
     "metadata": {},
     "output_type": "execute_result"
    }
   ],
   "source": [
    "# This operation could also be done with RE of course\n",
    "re.match(r'\\d+/\\d+/\\d+', '23/10/21') is not None"
   ]
  },
  {
   "cell_type": "code",
   "execution_count": 28,
   "metadata": {},
   "outputs": [
    {
     "data": {
      "text/plain": [
       "True"
      ]
     },
     "execution_count": 28,
     "metadata": {},
     "output_type": "execute_result"
    }
   ],
   "source": [
    "# In case we need to use the same re pattern many times, it is usefull\n",
    "# to compile it at the beginning and change the syntax:\n",
    "\n",
    "my_re = re.compile(r'\\d+/\\d+/\\d+')\n",
    "my_re.match('23/10/21') is not None"
   ]
  },
  {
   "cell_type": "code",
   "execution_count": 30,
   "metadata": {},
   "outputs": [],
   "source": [
    "# In regular expresions it is very common to use capture groups. This\n",
    "# allows us to get them independently after the match has been loaded with\n",
    "# the group expresion:\n",
    "\n",
    "my_re_with_groups = re.compile(r'(\\d+)/(\\d+)/(\\d+)')\n",
    "my_match = my_re_with_groups.match('23/23/2021')"
   ]
  },
  {
   "cell_type": "code",
   "execution_count": 32,
   "metadata": {},
   "outputs": [
    {
     "data": {
      "text/plain": [
       "(('23', '23', '2021'), '23/23/2021', '23', '23', '2021')"
      ]
     },
     "execution_count": 32,
     "metadata": {},
     "output_type": "execute_result"
    }
   ],
   "source": [
    "my_match.groups(), my_match.group(0), my_match.group(1), my_match.group(2), my_match.group(3)"
   ]
  },
  {
   "cell_type": "code",
   "execution_count": 36,
   "metadata": {},
   "outputs": [
    {
     "name": "stdout",
     "output_type": "stream",
     "text": [
      "2012-11-27\n",
      "2013-3-13\n"
     ]
    }
   ],
   "source": [
    "# Useful example:\n",
    "text = 'Today is 11/27/2012. PyCon starts 3/13/2013.'\n",
    "for month, day, year in my_re_with_groups.findall(text):\n",
    "    print('{}-{}-{}'.format(year, month, day))"
   ]
  },
  {
   "cell_type": "code",
   "execution_count": 38,
   "metadata": {},
   "outputs": [
    {
     "data": {
      "text/plain": [
       "'Today is 2021-11-26. PyCon starts 2022-2-13.'"
      ]
     },
     "execution_count": 38,
     "metadata": {},
     "output_type": "execute_result"
    }
   ],
   "source": [
    "# When replacing text, there are two options: first: str.replace(),\n",
    "# second, with re.sub method:\n",
    "# First param: text to look for:\n",
    "# Second param: text we wanna traduce to. When using capture groups \\n \n",
    "# targets group number n\n",
    "# Third: the hole string\n",
    "\n",
    "text = 'Today is 11/26/2021. PyCon starts 2/13/2022.'\n",
    "re.sub(r'(\\d+)/(\\d+)/(\\d+)', r'\\3-\\1-\\2', text)"
   ]
  },
  {
   "cell_type": "code",
   "execution_count": null,
   "metadata": {},
   "outputs": [],
   "source": [
    "# It is also possible to set a callback function instead of a regular expresion\n",
    "# when traducctions are not as easy as in the examples shown before."
   ]
  },
  {
   "cell_type": "code",
   "execution_count": 49,
   "metadata": {},
   "outputs": [],
   "source": [
    "# Strip text: the easiest way is using the strip method\n",
    "s = '  ------hello     world   \\n'\n"
   ]
  },
  {
   "cell_type": "code",
   "execution_count": 50,
   "metadata": {},
   "outputs": [
    {
     "data": {
      "text/plain": [
       "'hello     world'"
      ]
     },
     "execution_count": 50,
     "metadata": {},
     "output_type": "execute_result"
    }
   ],
   "source": [
    "# You can specify all the characters you wanna apply the stripping to\n",
    "# on the string argument\n",
    "s.strip('- \\n')"
   ]
  },
  {
   "cell_type": "code",
   "execution_count": 59,
   "metadata": {},
   "outputs": [
    {
     "data": {
      "text/plain": [
       "'hello world'"
      ]
     },
     "execution_count": 59,
     "metadata": {},
     "output_type": "execute_result"
    }
   ],
   "source": [
    "# The problem is that it does not apply to the text in the middle, in this\n",
    "# particular case re is needed:\n",
    "\n",
    "re.sub(r'[\\s\\n-]+', ' ', s).strip()"
   ]
  },
  {
   "cell_type": "code",
   "execution_count": 63,
   "metadata": {},
   "outputs": [
    {
     "data": {
      "text/plain": [
       "('             Hello!!', 'Hello!!             ', '      Hello!!       ')"
      ]
     },
     "execution_count": 63,
     "metadata": {},
     "output_type": "execute_result"
    }
   ],
   "source": [
    "#Formating text with justification: >, <, ^ (middle)\n",
    "\n",
    "my_original_string = 'Hello!!'\n",
    "justified_right = f\"{my_original_string:>20}\"\n",
    "justified_left = f\"{my_original_string:<20}\"\n",
    "justified_middle = f\"{my_original_string:^20}\"\n",
    "\n",
    "justified_right, justified_left, justified_middle"
   ]
  },
  {
   "cell_type": "code",
   "execution_count": 65,
   "metadata": {},
   "outputs": [
    {
     "data": {
      "text/plain": [
       "'Is Chicago Not Chicago?'"
      ]
     },
     "execution_count": 65,
     "metadata": {},
     "output_type": "execute_result"
    }
   ],
   "source": [
    "# Concatenating text with join:\n",
    "\n",
    "parts = ['Is', 'Chicago', 'Not', 'Chicago?']\n",
    "' '.join(parts)"
   ]
  },
  {
   "cell_type": "code",
   "execution_count": 68,
   "metadata": {},
   "outputs": [
    {
     "name": "stdout",
     "output_type": "stream",
     "text": [
      "Guido has 37 messages.\n",
      "Guido has 37 messages\n"
     ]
    }
   ],
   "source": [
    "# Create a string in which embedded variable names are substituted with a\n",
    "# string representation of a variable’s value.\n",
    "\n",
    "first_usage = '{} has {} messages.'.format('Guido', 37)\n",
    "second_usage = '{name} has {n} messages'.format(name = 'Guido', n = 37)\n",
    "print(first_usage, second_usage, sep = '\\n')\n"
   ]
  },
  {
   "cell_type": "code",
   "execution_count": 71,
   "metadata": {},
   "outputs": [
    {
     "data": {
      "text/plain": [
       "'Guido has 37 messages'"
      ]
     },
     "execution_count": 71,
     "metadata": {},
     "output_type": "execute_result"
    }
   ],
   "source": [
    "# Using dicctionaries and format_map\n",
    "name = 'Guido'\n",
    "n = 37\n",
    "my_dict_of_arguments = {'name': 'Guido', 'n': 37}\n",
    "'{name} has {n} messages'.format_map(my_dict_of_arguments)"
   ]
  },
  {
   "cell_type": "code",
   "execution_count": 78,
   "metadata": {},
   "outputs": [],
   "source": [
    "# The problem is when de dictionary doesnt hold one of the keys\n",
    "# in that scenerario we can create a new class with method __missing__()\n",
    "class MissingDict(dict):\n",
    "    def __init__(self, *args, **kwargs):\n",
    "        super(MissingDict, self).__init__(*args, **kwargs)\n",
    "        self.update({'clave_añadida': 1})\n",
    "    def __missing__(self, key):\n",
    "        return \"{\" + key + \"}\""
   ]
  },
  {
   "cell_type": "code",
   "execution_count": 83,
   "metadata": {},
   "outputs": [
    {
     "data": {
      "text/plain": [
       "'{clave_no_añadida}'"
      ]
     },
     "execution_count": 83,
     "metadata": {},
     "output_type": "execute_result"
    }
   ],
   "source": [
    "my_dict_of_arguments_w_missing_method = MissingDict(my_dict_of_arguments)\n",
    "my_dict_of_arguments_w_missing_method['clave_no_añadida']"
   ]
  },
  {
   "cell_type": "code",
   "execution_count": 84,
   "metadata": {},
   "outputs": [
    {
     "data": {
      "text/plain": [
       "'Guido has 37 messages and his role is: {role}'"
      ]
     },
     "execution_count": 84,
     "metadata": {},
     "output_type": "execute_result"
    }
   ],
   "source": [
    "'{name} has {n} messages and his role is: {role}'.format_map(my_dict_of_arguments_w_missing_method)"
   ]
  },
  {
   "cell_type": "code",
   "execution_count": 85,
   "metadata": {},
   "outputs": [],
   "source": [
    "# Reformatting text to a fixed number of columns:\n",
    "# use textwrap.fill(text, n_columns)\n",
    "\n",
    "s = \"Look into my eyes, look into my eyes, the eyes, the eyes, \\\n",
    "the eyes, not around the eyes, don't look around the eyes, \\\n",
    "look into my eyes, you're under.\"\n",
    "\n"
   ]
  },
  {
   "cell_type": "code",
   "execution_count": 89,
   "metadata": {},
   "outputs": [
    {
     "name": "stdout",
     "output_type": "stream",
     "text": [
      "Look into my eyes, look into my eyes, the eyes, the eyes, the eyes, not around the eyes, don't look around the eyes, look into my eyes, you're under.\n"
     ]
    }
   ],
   "source": [
    "print(s)"
   ]
  },
  {
   "cell_type": "code",
   "execution_count": 90,
   "metadata": {},
   "outputs": [
    {
     "name": "stdout",
     "output_type": "stream",
     "text": [
      "Look into my eyes,\n",
      "look into my eyes,\n",
      "the eyes, the eyes,\n",
      "the eyes, not around\n",
      "the eyes, don't look\n",
      "around the eyes,\n",
      "look into my eyes,\n",
      "you're under.\n"
     ]
    }
   ],
   "source": [
    "import textwrap\n",
    "print(textwrap.fill(s, 20))"
   ]
  },
  {
   "cell_type": "code",
   "execution_count": 91,
   "metadata": {},
   "outputs": [
    {
     "name": "stdout",
     "output_type": "stream",
     "text": [
      "   Look into my\n",
      "      eyes, look\n",
      "      into my eyes,\n",
      "      the eyes, the\n",
      "      eyes, the\n",
      "      eyes, not\n",
      "      around the\n",
      "      eyes, don't\n",
      "      look around\n",
      "      the eyes, look\n",
      "      into my eyes,\n",
      "      you're under.\n"
     ]
    }
   ],
   "source": [
    "# With indentation: \n",
    "print(textwrap.fill(s, 20, initial_indent = '   ', subsequent_indent = '      '))"
   ]
  },
  {
   "cell_type": "code",
   "execution_count": 94,
   "metadata": {},
   "outputs": [],
   "source": [
    "# Tokenizing text i.e.: parse left to tight into a stream of tokens.\n",
    "\n",
    "text = 'foo = 23 + 42 * 10'"
   ]
  },
  {
   "cell_type": "code",
   "execution_count": 95,
   "metadata": {},
   "outputs": [],
   "source": [
    "# When working with byte strings instead of normal strings, most of the feautures\n",
    "# and functions keeps running well except some, in that cases, an encoding-decoding is\n",
    "# needed\n",
    "\n",
    "my_string = 'Hello World!'\n",
    "my_b_string = b'Hello World!'"
   ]
  },
  {
   "cell_type": "code",
   "execution_count": 96,
   "metadata": {},
   "outputs": [
    {
     "data": {
      "text/plain": [
       "('Hello World!', b'Hello World!')"
      ]
     },
     "execution_count": 96,
     "metadata": {},
     "output_type": "execute_result"
    }
   ],
   "source": [
    "my_string, my_b_string"
   ]
  },
  {
   "cell_type": "code",
   "execution_count": 97,
   "metadata": {},
   "outputs": [
    {
     "data": {
      "text/plain": [
       "(['Hello', 'World!'], [b'Hello', b'World!'])"
      ]
     },
     "execution_count": 97,
     "metadata": {},
     "output_type": "execute_result"
    }
   ],
   "source": [
    "my_string.split(), my_b_string.split()"
   ]
  },
  {
   "cell_type": "code",
   "execution_count": 99,
   "metadata": {},
   "outputs": [
    {
     "data": {
      "text/plain": [
       "(6, 6)"
      ]
     },
     "execution_count": 99,
     "metadata": {},
     "output_type": "execute_result"
    }
   ],
   "source": [
    "my_string.find('W'), my_b_string.find(b'W')"
   ]
  },
  {
   "cell_type": "code",
   "execution_count": 100,
   "metadata": {},
   "outputs": [
    {
     "ename": "AttributeError",
     "evalue": "'bytes' object has no attribute 'format'",
     "output_type": "error",
     "traceback": [
      "\u001b[0;31m---------------------------------------------------------------------------\u001b[0m",
      "\u001b[0;31mAttributeError\u001b[0m                            Traceback (most recent call last)",
      "\u001b[0;32m/tmp/ipykernel_11762/366868969.py\u001b[0m in \u001b[0;36m<module>\u001b[0;34m\u001b[0m\n\u001b[1;32m      1\u001b[0m \u001b[0;31m# Byte strings dont allow formatting\u001b[0m\u001b[0;34m\u001b[0m\u001b[0;34m\u001b[0m\u001b[0;34m\u001b[0m\u001b[0m\n\u001b[0;32m----> 2\u001b[0;31m \u001b[0mmy_second_b_string\u001b[0m \u001b[0;34m=\u001b[0m \u001b[0;34mb'My favourate colour is {}'\u001b[0m\u001b[0;34m.\u001b[0m\u001b[0mformat\u001b[0m\u001b[0;34m(\u001b[0m\u001b[0;34m'blue'\u001b[0m\u001b[0;34m)\u001b[0m\u001b[0;34m\u001b[0m\u001b[0;34m\u001b[0m\u001b[0m\n\u001b[0m",
      "\u001b[0;31mAttributeError\u001b[0m: 'bytes' object has no attribute 'format'"
     ]
    }
   ],
   "source": [
    "# Byte strings dont allow formatting\n",
    "my_second_b_string = b'My favourate colour is {}'.format('blue')"
   ]
  },
  {
   "cell_type": "code",
   "execution_count": 102,
   "metadata": {},
   "outputs": [
    {
     "data": {
      "text/plain": [
       "'My favourate colour is blue'"
      ]
     },
     "execution_count": 102,
     "metadata": {},
     "output_type": "execute_result"
    }
   ],
   "source": [
    "# Solution:\n",
    "my_second_b_string = b'My favourate colour is {}'.decode('ascii').format('blue')\n",
    "my_second_b_string"
   ]
  },
  {
   "cell_type": "code",
   "execution_count": 105,
   "metadata": {},
   "outputs": [
    {
     "data": {
      "text/plain": [
       "b'My favourate colour is blue'"
      ]
     },
     "execution_count": 105,
     "metadata": {},
     "output_type": "execute_result"
    }
   ],
   "source": [
    "my_second_b_string_encoded = my_second_b_string.encode()\n",
    "my_second_b_string_encoded"
   ]
  },
  {
   "cell_type": "code",
   "execution_count": null,
   "metadata": {},
   "outputs": [],
   "source": []
  }
 ],
 "metadata": {
  "interpreter": {
   "hash": "916dbcbb3f70747c44a77c7bcd40155683ae19c65e1c03b4aa3499c5328201f1"
  },
  "kernelspec": {
   "display_name": "Python 3.8.10 64-bit",
   "name": "python3"
  },
  "language_info": {
   "codemirror_mode": {
    "name": "ipython",
    "version": 3
   },
   "file_extension": ".py",
   "mimetype": "text/x-python",
   "name": "python",
   "nbconvert_exporter": "python",
   "pygments_lexer": "ipython3",
   "version": "3.8.10"
  },
  "orig_nbformat": 4
 },
 "nbformat": 4,
 "nbformat_minor": 2
}
